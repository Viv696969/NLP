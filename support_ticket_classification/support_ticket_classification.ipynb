{
 "cells": [
  {
   "cell_type": "code",
   "execution_count": 1,
   "id": "4442f5d8-198a-416d-8781-145d883815f5",
   "metadata": {},
   "outputs": [],
   "source": [
    "from pandas import *"
   ]
  },
  {
   "cell_type": "code",
   "execution_count": 2,
   "id": "348b4868-5bef-471a-8dc9-9a486b049719",
   "metadata": {},
   "outputs": [
    {
     "data": {
      "text/html": [
       "<div>\n",
       "<style scoped>\n",
       "    .dataframe tbody tr th:only-of-type {\n",
       "        vertical-align: middle;\n",
       "    }\n",
       "\n",
       "    .dataframe tbody tr th {\n",
       "        vertical-align: top;\n",
       "    }\n",
       "\n",
       "    .dataframe thead th {\n",
       "        text-align: right;\n",
       "    }\n",
       "</style>\n",
       "<table border=\"1\" class=\"dataframe\">\n",
       "  <thead>\n",
       "    <tr style=\"text-align: right;\">\n",
       "      <th></th>\n",
       "      <th>title</th>\n",
       "      <th>body</th>\n",
       "      <th>ticket_type</th>\n",
       "      <th>category</th>\n",
       "      <th>sub_category1</th>\n",
       "      <th>sub_category2</th>\n",
       "      <th>business_service</th>\n",
       "      <th>urgency</th>\n",
       "      <th>impact</th>\n",
       "    </tr>\n",
       "  </thead>\n",
       "  <tbody>\n",
       "    <tr>\n",
       "      <th>0</th>\n",
       "      <td>NaN</td>\n",
       "      <td>hi since recruiter lead permission approve req...</td>\n",
       "      <td>1</td>\n",
       "      <td>4</td>\n",
       "      <td>2</td>\n",
       "      <td>21</td>\n",
       "      <td>71</td>\n",
       "      <td>3</td>\n",
       "      <td>4</td>\n",
       "    </tr>\n",
       "    <tr>\n",
       "      <th>1</th>\n",
       "      <td>connection with icon</td>\n",
       "      <td>icon dear please setup icon per icon engineers...</td>\n",
       "      <td>1</td>\n",
       "      <td>6</td>\n",
       "      <td>22</td>\n",
       "      <td>7</td>\n",
       "      <td>26</td>\n",
       "      <td>3</td>\n",
       "      <td>4</td>\n",
       "    </tr>\n",
       "    <tr>\n",
       "      <th>2</th>\n",
       "      <td>work experience user</td>\n",
       "      <td>work experience user hi work experience studen...</td>\n",
       "      <td>1</td>\n",
       "      <td>5</td>\n",
       "      <td>13</td>\n",
       "      <td>7</td>\n",
       "      <td>32</td>\n",
       "      <td>3</td>\n",
       "      <td>4</td>\n",
       "    </tr>\n",
       "    <tr>\n",
       "      <th>3</th>\n",
       "      <td>requesting for meeting</td>\n",
       "      <td>requesting meeting hi please help follow equip...</td>\n",
       "      <td>1</td>\n",
       "      <td>5</td>\n",
       "      <td>13</td>\n",
       "      <td>7</td>\n",
       "      <td>32</td>\n",
       "      <td>3</td>\n",
       "      <td>4</td>\n",
       "    </tr>\n",
       "    <tr>\n",
       "      <th>4</th>\n",
       "      <td>reset passwords for external accounts</td>\n",
       "      <td>re expire days hi ask help update passwords co...</td>\n",
       "      <td>1</td>\n",
       "      <td>4</td>\n",
       "      <td>2</td>\n",
       "      <td>76</td>\n",
       "      <td>4</td>\n",
       "      <td>3</td>\n",
       "      <td>4</td>\n",
       "    </tr>\n",
       "  </tbody>\n",
       "</table>\n",
       "</div>"
      ],
      "text/plain": [
       "                                   title  \\\n",
       "0                                    NaN   \n",
       "1                   connection with icon   \n",
       "2                   work experience user   \n",
       "3                 requesting for meeting   \n",
       "4  reset passwords for external accounts   \n",
       "\n",
       "                                                body  ticket_type  category  \\\n",
       "0  hi since recruiter lead permission approve req...            1         4   \n",
       "1  icon dear please setup icon per icon engineers...            1         6   \n",
       "2  work experience user hi work experience studen...            1         5   \n",
       "3  requesting meeting hi please help follow equip...            1         5   \n",
       "4  re expire days hi ask help update passwords co...            1         4   \n",
       "\n",
       "   sub_category1  sub_category2  business_service  urgency  impact  \n",
       "0              2             21                71        3       4  \n",
       "1             22              7                26        3       4  \n",
       "2             13              7                32        3       4  \n",
       "3             13              7                32        3       4  \n",
       "4              2             76                 4        3       4  "
      ]
     },
     "execution_count": 2,
     "metadata": {},
     "output_type": "execute_result"
    }
   ],
   "source": [
    "df=read_csv(\"all_tickets.csv\")\n",
    "df.head()"
   ]
  },
  {
   "cell_type": "code",
   "execution_count": 3,
   "id": "ab10a5ac-a108-4f76-91bb-170b8f3d3de5",
   "metadata": {},
   "outputs": [
    {
     "data": {
      "text/plain": [
       "ticket_type\n",
       "1    34621\n",
       "0    13928\n",
       "Name: count, dtype: int64"
      ]
     },
     "execution_count": 3,
     "metadata": {},
     "output_type": "execute_result"
    }
   ],
   "source": [
    "df.ticket_type.value_counts()"
   ]
  },
  {
   "cell_type": "code",
   "execution_count": 4,
   "id": "318c193d-5338-4076-b221-a7674460ac5a",
   "metadata": {},
   "outputs": [
    {
     "data": {
      "text/plain": [
       "<Axes: xlabel='urgency'>"
      ]
     },
     "execution_count": 4,
     "metadata": {},
     "output_type": "execute_result"
    },
    {
     "data": {
      "image/png": "[encoded data removed]",
      "text/plain": [
       "<Figure size 640x480 with 1 Axes>"
      ]
     },
     "metadata": {},
     "output_type": "display_data"
    }
   ],
   "source": [
    "df.urgency.value_counts().plot(kind='bar')"
   ]
  },
  {
   "cell_type": "code",
   "execution_count": 6,
   "id": "87da545d-68a7-4c75-8aaf-8b0f6f8b7a60",
   "metadata": {},
   "outputs": [
    {
     "data": {
      "text/plain": [
       "(48549, 9)"
      ]
     },
     "execution_count": 6,
     "metadata": {},
     "output_type": "execute_result"
    }
   ],
   "source": [
    "df.shape"
   ]
  },
  {
   "cell_type": "code",
   "execution_count": null,
   "id": "97e784aa-aee7-44bf-8cd7-3dbb0d70421e",
   "metadata": {},
   "outputs": [],
   "source": []
  },
  {
   "cell_type": "code",
   "execution_count": 7,
   "id": "efc95e34-fc83-4367-8d12-2ea491b3d66f",
   "metadata": {},
   "outputs": [
    {
     "name": "stdout",
     "output_type": "stream",
     "text": [
      "0\n",
      "(1652, 9)\n",
      "1\n",
      "(6748, 9)\n",
      "2\n",
      "(5528, 9)\n",
      "3\n",
      "(34621, 9)\n"
     ]
    }
   ],
   "source": [
    "for i in range(4):\n",
    "    print(i)\n",
    "    print(df[df.urgency==i].shape)"
   ]
  },
  {
   "cell_type": "code",
   "execution_count": 8,
   "id": "9e65a998-1b46-45b3-ac35-9a3b5afe18b6",
   "metadata": {},
   "outputs": [],
   "source": [
    "df3=df[df.urgency==3].sample(20000)"
   ]
  },
  {
   "cell_type": "code",
   "execution_count": 9,
   "id": "fb36422b-ecb2-4a40-9dd0-9a24cd69f52f",
   "metadata": {},
   "outputs": [],
   "source": [
    "df=df[~(df.urgency==3)]"
   ]
  },
  {
   "cell_type": "code",
   "execution_count": 10,
   "id": "890e0c96-e7cf-4e04-8d27-90ffbcfd5f9c",
   "metadata": {},
   "outputs": [],
   "source": [
    "df=concat([df,df3])"
   ]
  },
  {
   "cell_type": "code",
   "execution_count": 11,
   "id": "f3108a7d-87ad-44e4-9494-4c68e7f05eab",
   "metadata": {},
   "outputs": [
    {
     "data": {
      "text/html": [
       "<div>\n",
       "<style scoped>\n",
       "    .dataframe tbody tr th:only-of-type {\n",
       "        vertical-align: middle;\n",
       "    }\n",
       "\n",
       "    .dataframe tbody tr th {\n",
       "        vertical-align: top;\n",
       "    }\n",
       "\n",
       "    .dataframe thead th {\n",
       "        text-align: right;\n",
       "    }\n",
       "</style>\n",
       "<table border=\"1\" class=\"dataframe\">\n",
       "  <thead>\n",
       "    <tr style=\"text-align: right;\">\n",
       "      <th></th>\n",
       "      <th>title</th>\n",
       "      <th>body</th>\n",
       "      <th>ticket_type</th>\n",
       "      <th>category</th>\n",
       "      <th>sub_category1</th>\n",
       "      <th>sub_category2</th>\n",
       "      <th>business_service</th>\n",
       "      <th>urgency</th>\n",
       "      <th>impact</th>\n",
       "    </tr>\n",
       "  </thead>\n",
       "  <tbody>\n",
       "    <tr>\n",
       "      <th>34621</th>\n",
       "      <td>no access</td>\n",
       "      <td>ca pot intra la la va manager</td>\n",
       "      <td>0</td>\n",
       "      <td>4</td>\n",
       "      <td>21</td>\n",
       "      <td>1</td>\n",
       "      <td>73</td>\n",
       "      <td>0</td>\n",
       "      <td>3</td>\n",
       "    </tr>\n",
       "    <tr>\n",
       "      <th>34622</th>\n",
       "      <td>connection issues on the network with the assi...</td>\n",
       "      <td>connection issues with assigned address hi fac...</td>\n",
       "      <td>0</td>\n",
       "      <td>4</td>\n",
       "      <td>21</td>\n",
       "      <td>41</td>\n",
       "      <td>52</td>\n",
       "      <td>1</td>\n",
       "      <td>3</td>\n",
       "    </tr>\n",
       "  </tbody>\n",
       "</table>\n",
       "</div>"
      ],
      "text/plain": [
       "                                                   title  \\\n",
       "34621                                          no access   \n",
       "34622  connection issues on the network with the assi...   \n",
       "\n",
       "                                                    body  ticket_type  \\\n",
       "34621                      ca pot intra la la va manager            0   \n",
       "34622  connection issues with assigned address hi fac...            0   \n",
       "\n",
       "       category  sub_category1  sub_category2  business_service  urgency  \\\n",
       "34621         4             21              1                73        0   \n",
       "34622         4             21             41                52        1   \n",
       "\n",
       "       impact  \n",
       "34621       3  \n",
       "34622       3  "
      ]
     },
     "execution_count": 11,
     "metadata": {},
     "output_type": "execute_result"
    }
   ],
   "source": [
    "df.head(2)"
   ]
  },
  {
   "cell_type": "code",
   "execution_count": 12,
   "id": "7376c2ff-24bc-4fa8-9682-efe305f49534",
   "metadata": {},
   "outputs": [],
   "source": [
    "df.drop(columns=['title','ticket_type','category','sub_category1','sub_category2','impact'],inplace=True)"
   ]
  },
  {
   "cell_type": "code",
   "execution_count": 13,
   "id": "e4e758c0-2a5e-42a7-a95b-73425fc05d88",
   "metadata": {},
   "outputs": [],
   "source": [
    "df.drop(labels=34621,inplace=True)"
   ]
  },
  {
   "cell_type": "code",
   "execution_count": 14,
   "id": "5e2ad7f7-d7c0-49a4-aba7-efc18ea5a824",
   "metadata": {},
   "outputs": [
    {
     "data": {
      "text/html": [
       "<div>\n",
       "<style scoped>\n",
       "    .dataframe tbody tr th:only-of-type {\n",
       "        vertical-align: middle;\n",
       "    }\n",
       "\n",
       "    .dataframe tbody tr th {\n",
       "        vertical-align: top;\n",
       "    }\n",
       "\n",
       "    .dataframe thead th {\n",
       "        text-align: right;\n",
       "    }\n",
       "</style>\n",
       "<table border=\"1\" class=\"dataframe\">\n",
       "  <thead>\n",
       "    <tr style=\"text-align: right;\">\n",
       "      <th></th>\n",
       "      <th>body</th>\n",
       "      <th>business_service</th>\n",
       "      <th>urgency</th>\n",
       "    </tr>\n",
       "  </thead>\n",
       "  <tbody>\n",
       "    <tr>\n",
       "      <th>34622</th>\n",
       "      <td>connection issues with assigned address hi fac...</td>\n",
       "      <td>52</td>\n",
       "      <td>1</td>\n",
       "    </tr>\n",
       "    <tr>\n",
       "      <th>34623</th>\n",
       "      <td>cannot access hi cannot access fallowing link ...</td>\n",
       "      <td>24</td>\n",
       "      <td>2</td>\n",
       "    </tr>\n",
       "  </tbody>\n",
       "</table>\n",
       "</div>"
      ],
      "text/plain": [
       "                                                    body  business_service  \\\n",
       "34622  connection issues with assigned address hi fac...                52   \n",
       "34623  cannot access hi cannot access fallowing link ...                24   \n",
       "\n",
       "       urgency  \n",
       "34622        1  \n",
       "34623        2  "
      ]
     },
     "execution_count": 14,
     "metadata": {},
     "output_type": "execute_result"
    }
   ],
   "source": [
    "df.head(2)"
   ]
  },
  {
   "cell_type": "code",
   "execution_count": 15,
   "id": "89c3aa89-712f-4e9e-99c8-df564b1c298f",
   "metadata": {},
   "outputs": [],
   "source": [
    "df.drop('business_service',axis=1,inplace=True)"
   ]
  },
  {
   "cell_type": "code",
   "execution_count": 16,
   "id": "409dc86a-6efe-49ba-8334-8adb977d58ff",
   "metadata": {},
   "outputs": [
    {
     "data": {
      "text/html": [
       "<div>\n",
       "<style scoped>\n",
       "    .dataframe tbody tr th:only-of-type {\n",
       "        vertical-align: middle;\n",
       "    }\n",
       "\n",
       "    .dataframe tbody tr th {\n",
       "        vertical-align: top;\n",
       "    }\n",
       "\n",
       "    .dataframe thead th {\n",
       "        text-align: right;\n",
       "    }\n",
       "</style>\n",
       "<table border=\"1\" class=\"dataframe\">\n",
       "  <thead>\n",
       "    <tr style=\"text-align: right;\">\n",
       "      <th></th>\n",
       "      <th>body</th>\n",
       "      <th>urgency</th>\n",
       "    </tr>\n",
       "  </thead>\n",
       "  <tbody>\n",
       "    <tr>\n",
       "      <th>34622</th>\n",
       "      <td>connection issues with assigned address hi fac...</td>\n",
       "      <td>1</td>\n",
       "    </tr>\n",
       "    <tr>\n",
       "      <th>34623</th>\n",
       "      <td>cannot access hi cannot access fallowing link ...</td>\n",
       "      <td>2</td>\n",
       "    </tr>\n",
       "    <tr>\n",
       "      <th>34624</th>\n",
       "      <td>re address shown valid dear colleagues remarke...</td>\n",
       "      <td>1</td>\n",
       "    </tr>\n",
       "    <tr>\n",
       "      <th>34625</th>\n",
       "      <td>sent tuesday critical alert following alert oc...</td>\n",
       "      <td>2</td>\n",
       "    </tr>\n",
       "    <tr>\n",
       "      <th>34626</th>\n",
       "      <td>code spelling mistake hello should discover fo...</td>\n",
       "      <td>2</td>\n",
       "    </tr>\n",
       "  </tbody>\n",
       "</table>\n",
       "</div>"
      ],
      "text/plain": [
       "                                                    body  urgency\n",
       "34622  connection issues with assigned address hi fac...        1\n",
       "34623  cannot access hi cannot access fallowing link ...        2\n",
       "34624  re address shown valid dear colleagues remarke...        1\n",
       "34625  sent tuesday critical alert following alert oc...        2\n",
       "34626  code spelling mistake hello should discover fo...        2"
      ]
     },
     "execution_count": 16,
     "metadata": {},
     "output_type": "execute_result"
    }
   ],
   "source": [
    "df.head()"
   ]
  },
  {
   "cell_type": "code",
   "execution_count": 17,
   "id": "a08cba66-4df3-47ed-ac2d-fa84725a4192",
   "metadata": {},
   "outputs": [
    {
     "data": {
      "text/plain": [
       "(33927, 2)"
      ]
     },
     "execution_count": 17,
     "metadata": {},
     "output_type": "execute_result"
    }
   ],
   "source": [
    "df.shape"
   ]
  },
  {
   "cell_type": "code",
   "execution_count": 18,
   "id": "4bb1a4d9-1034-4dc8-b070-ae2b4d15edb5",
   "metadata": {},
   "outputs": [
    {
     "name": "stdout",
     "output_type": "stream",
     "text": [
      "<class 'pandas.core.frame.DataFrame'>\n",
      "Index: 33927 entries, 34622 to 14453\n",
      "Data columns (total 2 columns):\n",
      " #   Column   Non-Null Count  Dtype \n",
      "---  ------   --------------  ----- \n",
      " 0   body     33927 non-null  object\n",
      " 1   urgency  33927 non-null  int64 \n",
      "dtypes: int64(1), object(1)\n",
      "memory usage: 795.2+ KB\n"
     ]
    }
   ],
   "source": [
    "df.info()"
   ]
  },
  {
   "cell_type": "code",
   "execution_count": 21,
   "id": "554ff5dc-bfeb-48cf-aa91-a67c891d28c4",
   "metadata": {},
   "outputs": [
    {
     "data": {
      "text/plain": [
       "body       0\n",
       "urgency    0\n",
       "dtype: int64"
      ]
     },
     "execution_count": 21,
     "metadata": {},
     "output_type": "execute_result"
    }
   ],
   "source": [
    "df.isnull().sum()"
   ]
  },
  {
   "cell_type": "code",
   "execution_count": 24,
   "id": "020b8834-1d75-4c23-a0a2-2d99c7db923c",
   "metadata": {},
   "outputs": [],
   "source": [
    "indexes=[]\n",
    "for i in df.index:\n",
    "    if len(str(df.body[i]))<10:\n",
    "        indexes.append(i)"
   ]
  },
  {
   "cell_type": "code",
   "execution_count": 26,
   "id": "6d4a0665-9928-4881-8c07-f2f1e376cfae",
   "metadata": {},
   "outputs": [],
   "source": [
    "df.drop(labels=indexes,inplace=True)"
   ]
  },
  {
   "cell_type": "code",
   "execution_count": 28,
   "id": "6273e11d-1fca-44fe-a0f7-2a2c6eb80006",
   "metadata": {},
   "outputs": [
    {
     "data": {
      "text/html": [
       "<div>\n",
       "<style scoped>\n",
       "    .dataframe tbody tr th:only-of-type {\n",
       "        vertical-align: middle;\n",
       "    }\n",
       "\n",
       "    .dataframe tbody tr th {\n",
       "        vertical-align: top;\n",
       "    }\n",
       "\n",
       "    .dataframe thead th {\n",
       "        text-align: right;\n",
       "    }\n",
       "</style>\n",
       "<table border=\"1\" class=\"dataframe\">\n",
       "  <thead>\n",
       "    <tr style=\"text-align: right;\">\n",
       "      <th></th>\n",
       "      <th>body</th>\n",
       "      <th>urgency</th>\n",
       "    </tr>\n",
       "  </thead>\n",
       "  <tbody>\n",
       "    <tr>\n",
       "      <th>34622</th>\n",
       "      <td>connection issues with assigned address hi fac...</td>\n",
       "      <td>1</td>\n",
       "    </tr>\n",
       "    <tr>\n",
       "      <th>34623</th>\n",
       "      <td>cannot access hi cannot access fallowing link ...</td>\n",
       "      <td>2</td>\n",
       "    </tr>\n",
       "    <tr>\n",
       "      <th>34624</th>\n",
       "      <td>re address shown valid dear colleagues remarke...</td>\n",
       "      <td>1</td>\n",
       "    </tr>\n",
       "    <tr>\n",
       "      <th>34625</th>\n",
       "      <td>sent tuesday critical alert following alert oc...</td>\n",
       "      <td>2</td>\n",
       "    </tr>\n",
       "    <tr>\n",
       "      <th>34626</th>\n",
       "      <td>code spelling mistake hello should discover fo...</td>\n",
       "      <td>2</td>\n",
       "    </tr>\n",
       "  </tbody>\n",
       "</table>\n",
       "</div>"
      ],
      "text/plain": [
       "                                                    body  urgency\n",
       "34622  connection issues with assigned address hi fac...        1\n",
       "34623  cannot access hi cannot access fallowing link ...        2\n",
       "34624  re address shown valid dear colleagues remarke...        1\n",
       "34625  sent tuesday critical alert following alert oc...        2\n",
       "34626  code spelling mistake hello should discover fo...        2"
      ]
     },
     "execution_count": 28,
     "metadata": {},
     "output_type": "execute_result"
    }
   ],
   "source": [
    "df.head()"
   ]
  },
  {
   "cell_type": "code",
   "execution_count": 29,
   "id": "b28bcf56-55cd-453a-942a-7a2873483bea",
   "metadata": {},
   "outputs": [],
   "source": [
    "text=df.body[34625]"
   ]
  },
  {
   "cell_type": "code",
   "execution_count": 30,
   "id": "7c8cb78d-9979-4a37-892f-b590828642fc",
   "metadata": {},
   "outputs": [],
   "source": [
    "import spacy"
   ]
  },
  {
   "cell_type": "code",
   "execution_count": 31,
   "id": "525393d8-9575-4427-aab3-5e41f2a89e8c",
   "metadata": {},
   "outputs": [],
   "source": [
    "nlp=spacy.load(\"en_core_web_lg\")"
   ]
  },
  {
   "cell_type": "code",
   "execution_count": 32,
   "id": "26fe3c71-9cd8-44c9-a5fc-84293b91d12b",
   "metadata": {
    "scrolled": true
   },
   "outputs": [
    {
     "data": {
      "text/plain": [
       "array([-0.13016231,  0.00822728, -0.10032658,  0.7131131 ,  3.9742215 ,\n",
       "       -0.4821384 ,  0.46450767,  3.6307232 , -1.1758884 ,  0.04002028,\n",
       "        5.4141426 ,  1.6012653 , -4.2806807 ,  2.272567  , -0.5494084 ,\n",
       "        1.3518605 ,  3.0639744 ,  1.2952664 , -1.7284399 , -0.55585456,\n",
       "       -0.76740533, -0.218275  , -2.4632275 ,  0.4362266 , -2.5088532 ,\n",
       "       -1.5271678 , -2.2053103 , -1.8216616 , -0.32327297,  1.1945317 ,\n",
       "        1.0159632 ,  0.47835103, -1.9718771 , -0.4122038 ,  0.72755104,\n",
       "       -0.8778019 , -0.9886867 ,  0.0488598 ,  3.56312   ,  1.2078028 ,\n",
       "        0.4001915 , -0.43120497,  0.3158516 ,  0.91563004, -2.6152334 ,\n",
       "        1.2554991 ,  3.0675266 , -2.6748614 ,  0.47477478, -0.38900977,\n",
       "        0.9204857 ,  1.2878613 , -0.015921  , -3.397778  , -1.6708949 ,\n",
       "        1.8829426 , -1.8674068 ,  0.7245463 ,  1.8382143 , -1.4808917 ,\n",
       "        1.1285981 ,  0.9507661 , -3.2727954 , -1.443201  ,  1.8003547 ,\n",
       "        2.812814  , -1.6522481 , -1.917819  ,  0.253574  ,  2.9275038 ,\n",
       "       -0.23177123,  0.12166996, -2.1230836 , -0.25262293, -0.40070716,\n",
       "        2.1284728 , -0.5979486 ,  0.33882675, -2.1287625 ,  0.4604352 ,\n",
       "       -2.8368294 , -1.3247682 ,  0.39550307,  1.831747  ,  1.287767  ,\n",
       "       -0.00772774, -1.2537447 , -2.232657  ,  1.9208195 , -0.9395194 ,\n",
       "       -1.6769422 ,  0.9923822 ,  1.2049028 , -0.5515612 ,  0.65473187,\n",
       "       -0.74239147,  0.1550772 , -0.7748632 ,  0.00661219,  0.13474579,\n",
       "        2.1912928 ,  1.4756316 ,  1.3345262 ,  0.94300175, -0.8302806 ,\n",
       "        3.8951373 , -0.9965612 , -1.589072  ,  0.6421685 , -2.482227  ,\n",
       "        1.6876446 , -0.37119332,  0.04363571,  0.02670112,  0.691546  ,\n",
       "        1.226373  , -2.9322777 , -0.2745522 , -0.88303816, -1.1281463 ,\n",
       "       -2.2400756 , -2.3942552 ,  0.89333045,  1.2425168 , -0.1975657 ,\n",
       "       -2.9609208 ,  1.7420423 , -1.7443788 ,  1.595489  , -1.1859686 ,\n",
       "       -1.811362  ,  0.55709064,  2.52971   , -0.7652226 ,  1.2442682 ,\n",
       "       -0.3038432 , -1.3122541 , -0.5791323 ,  3.8884254 , -1.2844005 ,\n",
       "       -0.8485902 , -1.2572584 , -0.22118676,  1.3514993 ,  0.83605325,\n",
       "        0.2080354 , -2.9753008 ,  0.10145535,  0.03933346,  2.972279  ,\n",
       "        0.7105419 ,  1.4470199 ,  1.0338204 ,  1.3436134 ,  0.17237525,\n",
       "       -0.4849525 ,  2.0729876 ,  0.7521597 , -0.63370955, -3.101873  ,\n",
       "       -0.70822203, -1.971303  ,  0.14738569,  2.4685216 , -1.7821709 ,\n",
       "       -1.1222193 , -3.380431  ,  1.525805  ,  0.12275116, -0.56919473,\n",
       "       -1.214205  ,  1.060504  ,  0.67885417, -0.15394947,  2.8897662 ,\n",
       "        1.0269423 ,  0.09818347, -0.16642304, -1.8665676 , -0.69233495,\n",
       "       -0.51241046,  1.4923384 ,  1.0219196 , -0.49000192, -0.5440446 ,\n",
       "        0.67646056, -1.4000323 , -0.8879508 ,  1.367415  ,  1.3561456 ,\n",
       "        0.5092031 , -1.2554798 , -0.610078  , -1.4311697 ,  0.06685791,\n",
       "        1.7027032 , -3.636044  , -0.71899784,  0.44859546,  1.0373534 ,\n",
       "       -2.0881212 , -2.0456645 ,  0.05463208, -3.1842928 ,  4.180167  ,\n",
       "        1.9609903 , -1.7174823 ,  1.3264229 ,  0.4423391 , -0.12029801,\n",
       "       -0.14580297, -0.07452087, -0.9442073 ,  2.359095  ,  0.04130862,\n",
       "        1.9909623 ,  2.9791286 , -2.6569407 , -0.36003727,  0.6792536 ,\n",
       "       -1.4166427 ,  0.6306004 , -1.3211367 , -0.45491943, -0.59258825,\n",
       "       -1.6712002 ,  0.21794197,  0.7306417 ,  0.6836387 ,  0.0994923 ,\n",
       "        2.1922383 , -2.9272785 , -0.55055857,  2.406441  ,  1.5584681 ,\n",
       "        1.9364617 , -0.26112485,  0.11915243, -0.08661233,  0.3805845 ,\n",
       "       -1.8596904 , -1.3648592 ,  0.37868196,  0.46730104, -1.3467283 ,\n",
       "        0.7296213 , -2.9159276 ,  0.37873363, -0.35331935,  1.5486856 ,\n",
       "        1.4653351 , -2.4052188 , -3.992155  , -1.7275789 ,  0.53393567,\n",
       "       -2.732487  ,  1.9608644 , -1.3482032 ,  0.45756778,  1.825777  ,\n",
       "       -0.8288139 ,  4.5167356 ,  1.1269888 ,  1.264931  ,  1.8046052 ,\n",
       "       -1.0518758 ,  0.22587302,  1.8357509 , -3.0855792 , -1.2455959 ,\n",
       "        0.0591016 ,  0.15752897,  0.76928777, -1.6927767 , -0.18850096,\n",
       "       -1.3883083 ,  1.0915043 , -2.2489069 , -0.35847932,  1.4131479 ,\n",
       "        3.0511577 ,  0.16827027,  0.8552987 , -0.20975825,  2.520118  ,\n",
       "       -0.27857786,  0.6107784 ,  0.50330323, -2.361208  ,  0.6960616 ,\n",
       "        0.82697356, -0.17307974,  0.03280847,  0.8012177 , -1.0727807 ,\n",
       "        1.6197933 ,  1.0638223 , -2.6233287 , -0.5218371 ,  2.0912678 ],\n",
       "      dtype=float32)"
      ]
     },
     "execution_count": 32,
     "metadata": {},
     "output_type": "execute_result"
    }
   ],
   "source": [
    "nlp(text).vector"
   ]
  },
  {
   "cell_type": "code",
   "execution_count": 33,
   "id": "e889b4a9-e6d8-42b0-9e41-95b817b867bd",
   "metadata": {},
   "outputs": [],
   "source": [
    "def process(text):\n",
    "    return nlp(text).vector"
   ]
  },
  {
   "cell_type": "code",
   "execution_count": 34,
   "id": "029aa5c9-12ce-41f1-a330-574e70ed3d80",
   "metadata": {},
   "outputs": [],
   "source": [
    "df['preprocessed']=df.body.apply(process)"
   ]
  },
  {
   "cell_type": "code",
   "execution_count": 35,
   "id": "e7b181d9-cff6-498d-9e43-73bbf11b4848",
   "metadata": {},
   "outputs": [
    {
     "data": {
      "text/html": [
       "<div>\n",
       "<style scoped>\n",
       "    .dataframe tbody tr th:only-of-type {\n",
       "        vertical-align: middle;\n",
       "    }\n",
       "\n",
       "    .dataframe tbody tr th {\n",
       "        vertical-align: top;\n",
       "    }\n",
       "\n",
       "    .dataframe thead th {\n",
       "        text-align: right;\n",
       "    }\n",
       "</style>\n",
       "<table border=\"1\" class=\"dataframe\">\n",
       "  <thead>\n",
       "    <tr style=\"text-align: right;\">\n",
       "      <th></th>\n",
       "      <th>body</th>\n",
       "      <th>urgency</th>\n",
       "      <th>preprocessed</th>\n",
       "    </tr>\n",
       "  </thead>\n",
       "  <tbody>\n",
       "    <tr>\n",
       "      <th>34622</th>\n",
       "      <td>connection issues with assigned address hi fac...</td>\n",
       "      <td>1</td>\n",
       "      <td>[-0.7520911, 1.4273865, -2.612265, -0.79093957...</td>\n",
       "    </tr>\n",
       "    <tr>\n",
       "      <th>34623</th>\n",
       "      <td>cannot access hi cannot access fallowing link ...</td>\n",
       "      <td>2</td>\n",
       "      <td>[2.4926133, 3.1381001, -3.9104621, -0.7820153,...</td>\n",
       "    </tr>\n",
       "    <tr>\n",
       "      <th>34624</th>\n",
       "      <td>re address shown valid dear colleagues remarke...</td>\n",
       "      <td>1</td>\n",
       "      <td>[-0.20055826, 0.3071257, -1.0509928, -0.646565...</td>\n",
       "    </tr>\n",
       "    <tr>\n",
       "      <th>34625</th>\n",
       "      <td>sent tuesday critical alert following alert oc...</td>\n",
       "      <td>2</td>\n",
       "      <td>[-0.13016231, 0.008227277, -0.10032658, 0.7131...</td>\n",
       "    </tr>\n",
       "    <tr>\n",
       "      <th>34626</th>\n",
       "      <td>code spelling mistake hello should discover fo...</td>\n",
       "      <td>2</td>\n",
       "      <td>[1.8048236, 1.2155749, -1.0045027, -1.3872913,...</td>\n",
       "    </tr>\n",
       "  </tbody>\n",
       "</table>\n",
       "</div>"
      ],
      "text/plain": [
       "                                                    body  urgency  \\\n",
       "34622  connection issues with assigned address hi fac...        1   \n",
       "34623  cannot access hi cannot access fallowing link ...        2   \n",
       "34624  re address shown valid dear colleagues remarke...        1   \n",
       "34625  sent tuesday critical alert following alert oc...        2   \n",
       "34626  code spelling mistake hello should discover fo...        2   \n",
       "\n",
       "                                            preprocessed  \n",
       "34622  [-0.7520911, 1.4273865, -2.612265, -0.79093957...  \n",
       "34623  [2.4926133, 3.1381001, -3.9104621, -0.7820153,...  \n",
       "34624  [-0.20055826, 0.3071257, -1.0509928, -0.646565...  \n",
       "34625  [-0.13016231, 0.008227277, -0.10032658, 0.7131...  \n",
       "34626  [1.8048236, 1.2155749, -1.0045027, -1.3872913,...  "
      ]
     },
     "execution_count": 35,
     "metadata": {},
     "output_type": "execute_result"
    }
   ],
   "source": [
    "df.head()"
   ]
  },
  {
   "cell_type": "code",
   "execution_count": 55,
   "id": "751c0c67-ca01-41f9-ad72-c756636ff188",
   "metadata": {},
   "outputs": [],
   "source": [
    "from sklearn.model_selection import train_test_split\n",
    "from sklearn.naive_bayes import GaussianNB\n",
    "from sklearn.ensemble import RandomForestClassifier,GradientBoostingClassifier\n",
    "from sklearn.neighbors import KNeighborsClassifier"
   ]
  },
  {
   "cell_type": "code",
   "execution_count": 37,
   "id": "019ee98f-cc75-440e-bca7-51a3e75a1bd5",
   "metadata": {},
   "outputs": [],
   "source": [
    "import numpy as np"
   ]
  },
  {
   "cell_type": "code",
   "execution_count": 64,
   "id": "93412e55-07ed-4832-9a19-f8adec1ff880",
   "metadata": {},
   "outputs": [],
   "source": [
    "x=np.stack(df.preprocessed.values)[:,:,np.newaxis]"
   ]
  },
  {
   "cell_type": "code",
   "execution_count": 42,
   "id": "89b6ca3c-e4bf-4f5c-b041-fc2fef25193b",
   "metadata": {},
   "outputs": [],
   "source": [
    "# x=np.stack(df.preprocessed.values)"
   ]
  },
  {
   "cell_type": "code",
   "execution_count": 65,
   "id": "3a5cc358-beed-4e73-8314-c1272375220a",
   "metadata": {},
   "outputs": [],
   "source": [
    "y=df.urgency"
   ]
  },
  {
   "cell_type": "code",
   "execution_count": 66,
   "id": "3aaaae22-7c02-4a19-a87d-321930e20f1d",
   "metadata": {},
   "outputs": [
    {
     "data": {
      "text/plain": [
       "34622    1\n",
       "34623    2\n",
       "34624    1\n",
       "34625    2\n",
       "34626    2\n",
       "        ..\n",
       "33059    3\n",
       "32690    3\n",
       "27214    3\n",
       "6721     3\n",
       "14453    3\n",
       "Name: urgency, Length: 33858, dtype: int64"
      ]
     },
     "execution_count": 66,
     "metadata": {},
     "output_type": "execute_result"
    }
   ],
   "source": [
    "y"
   ]
  },
  {
   "cell_type": "code",
   "execution_count": 67,
   "id": "6e63ae4a-fdfe-45d5-81c5-448e50c7a89c",
   "metadata": {},
   "outputs": [],
   "source": [
    " X_train, X_test, y_train, y_test =train_test_split(x,y,test_size=0.1,stratify=y)"
   ]
  },
  {
   "cell_type": "code",
   "execution_count": 68,
   "id": "1d0723ed-43e7-43b4-8825-ce0f3c96c11f",
   "metadata": {},
   "outputs": [],
   "source": [
    "import matplotlib.pyplot as plt\n",
    "import seaborn as sns"
   ]
  },
  {
   "cell_type": "code",
   "execution_count": 69,
   "id": "52ef15a1-c5a9-41bb-9568-6f38770f8fcb",
   "metadata": {},
   "outputs": [
    {
     "name": "stderr",
     "output_type": "stream",
     "text": [
      "C:\\Users\\vivek chouhan\\AppData\\Local\\Programs\\Python\\Python311\\Lib\\site-packages\\seaborn\\_oldcore.py:1498: FutureWarning: is_categorical_dtype is deprecated and will be removed in a future version. Use isinstance(dtype, CategoricalDtype) instead\n",
      "  if pd.api.types.is_categorical_dtype(vector):\n",
      "C:\\Users\\vivek chouhan\\AppData\\Local\\Programs\\Python\\Python311\\Lib\\site-packages\\seaborn\\_oldcore.py:1498: FutureWarning: is_categorical_dtype is deprecated and will be removed in a future version. Use isinstance(dtype, CategoricalDtype) instead\n",
      "  if pd.api.types.is_categorical_dtype(vector):\n",
      "C:\\Users\\vivek chouhan\\AppData\\Local\\Programs\\Python\\Python311\\Lib\\site-packages\\seaborn\\_oldcore.py:1498: FutureWarning: is_categorical_dtype is deprecated and will be removed in a future version. Use isinstance(dtype, CategoricalDtype) instead\n",
      "  if pd.api.types.is_categorical_dtype(vector):\n",
      "C:\\Users\\vivek chouhan\\AppData\\Local\\Programs\\Python\\Python311\\Lib\\site-packages\\seaborn\\_oldcore.py:1498: FutureWarning: is_categorical_dtype is deprecated and will be removed in a future version. Use isinstance(dtype, CategoricalDtype) instead\n",
      "  if pd.api.types.is_categorical_dtype(vector):\n",
      "C:\\Users\\vivek chouhan\\AppData\\Local\\Programs\\Python\\Python311\\Lib\\site-packages\\seaborn\\_oldcore.py:1498: FutureWarning: is_categorical_dtype is deprecated and will be removed in a future version. Use isinstance(dtype, CategoricalDtype) instead\n",
      "  if pd.api.types.is_categorical_dtype(vector):\n",
      "C:\\Users\\vivek chouhan\\AppData\\Local\\Programs\\Python\\Python311\\Lib\\site-packages\\seaborn\\_oldcore.py:1119: FutureWarning: use_inf_as_na option is deprecated and will be removed in a future version. Convert inf values to NaN before operating instead.\n",
      "  with pd.option_context('mode.use_inf_as_na', True):\n"
     ]
    },
    {
     "data": {
      "text/plain": [
       "<seaborn.axisgrid.FacetGrid at 0x14011abfad0>"
      ]
     },
     "execution_count": 69,
     "metadata": {},
     "output_type": "execute_result"
    },
    {
     "data": {
      "image/png": "[encoded data removed]",
      "text/plain": [
       "<Figure size 558.75x500 with 1 Axes>"
      ]
     },
     "metadata": {},
     "output_type": "display_data"
    }
   ],
   "source": [
    "sns.displot(x[0],kde=True)"
   ]
  },
  {
   "cell_type": "code",
   "execution_count": 53,
   "id": "68bfefe3-60de-4d94-85ee-c8550004b3d1",
   "metadata": {},
   "outputs": [
    {
     "name": "stderr",
     "output_type": "stream",
     "text": [
      "C:\\Users\\vivek chouhan\\AppData\\Local\\Temp\\ipykernel_16088\\3746914587.py:1: UserWarning: \n",
      "\n",
      "`distplot` is a deprecated function and will be removed in seaborn v0.14.0.\n",
      "\n",
      "Please adapt your code to use either `displot` (a figure-level function with\n",
      "similar flexibility) or `histplot` (an axes-level function for histograms).\n",
      "\n",
      "For a guide to updating your code to use the new functions, please see\n",
      "https://gist.github.com/mwaskom/de44147ed2974457ad6372750bbe5751\n",
      "\n",
      "  sns.distplot(x)\n",
      "C:\\Users\\vivek chouhan\\AppData\\Local\\Programs\\Python\\Python311\\Lib\\site-packages\\seaborn\\_oldcore.py:1498: FutureWarning: is_categorical_dtype is deprecated and will be removed in a future version. Use isinstance(dtype, CategoricalDtype) instead\n",
      "  if pd.api.types.is_categorical_dtype(vector):\n",
      "C:\\Users\\vivek chouhan\\AppData\\Local\\Programs\\Python\\Python311\\Lib\\site-packages\\seaborn\\_oldcore.py:1119: FutureWarning: use_inf_as_na option is deprecated and will be removed in a future version. Convert inf values to NaN before operating instead.\n",
      "  with pd.option_context('mode.use_inf_as_na', True):\n"
     ]
    },
    {
     "ename": "KeyboardInterrupt",
     "evalue": "",
     "output_type": "error",
     "traceback": [
      "\u001b[1;31m---------------------------------------------------------------------------\u001b[0m",
      "\u001b[1;31mKeyboardInterrupt\u001b[0m                         Traceback (most recent call last)",
      "Cell \u001b[1;32mIn[53], line 1\u001b[0m\n\u001b[1;32m----> 1\u001b[0m \u001b[43msns\u001b[49m\u001b[38;5;241;43m.\u001b[39;49m\u001b[43mdistplot\u001b[49m\u001b[43m(\u001b[49m\u001b[43mx\u001b[49m\u001b[43m)\u001b[49m\n",
      "File \u001b[1;32m~\\AppData\\Local\\Programs\\Python\\Python311\\Lib\\site-packages\\seaborn\\distributions.py:2511\u001b[0m, in \u001b[0;36mdistplot\u001b[1;34m(a, bins, hist, kde, rug, fit, hist_kws, kde_kws, rug_kws, fit_kws, color, vertical, norm_hist, axlabel, label, ax, x)\u001b[0m\n\u001b[0;32m   2509\u001b[0m \u001b[38;5;28;01mif\u001b[39;00m kde:\n\u001b[0;32m   2510\u001b[0m     kde_color \u001b[38;5;241m=\u001b[39m kde_kws\u001b[38;5;241m.\u001b[39mpop(\u001b[38;5;124m\"\u001b[39m\u001b[38;5;124mcolor\u001b[39m\u001b[38;5;124m\"\u001b[39m, color)\n\u001b[1;32m-> 2511\u001b[0m     \u001b[43mkdeplot\u001b[49m\u001b[43m(\u001b[49m\u001b[38;5;241;43m*\u001b[39;49m\u001b[38;5;241;43m*\u001b[39;49m\u001b[43m{\u001b[49m\u001b[43maxis\u001b[49m\u001b[43m:\u001b[49m\u001b[43m \u001b[49m\u001b[43ma\u001b[49m\u001b[43m}\u001b[49m\u001b[43m,\u001b[49m\u001b[43m \u001b[49m\u001b[43max\u001b[49m\u001b[38;5;241;43m=\u001b[39;49m\u001b[43max\u001b[49m\u001b[43m,\u001b[49m\u001b[43m \u001b[49m\u001b[43mcolor\u001b[49m\u001b[38;5;241;43m=\u001b[39;49m\u001b[43mkde_color\u001b[49m\u001b[43m,\u001b[49m\u001b[43m \u001b[49m\u001b[38;5;241;43m*\u001b[39;49m\u001b[38;5;241;43m*\u001b[39;49m\u001b[43mkde_kws\u001b[49m\u001b[43m)\u001b[49m\n\u001b[0;32m   2512\u001b[0m     \u001b[38;5;28;01mif\u001b[39;00m kde_color \u001b[38;5;241m!=\u001b[39m color:\n\u001b[0;32m   2513\u001b[0m         kde_kws[\u001b[38;5;124m\"\u001b[39m\u001b[38;5;124mcolor\u001b[39m\u001b[38;5;124m\"\u001b[39m] \u001b[38;5;241m=\u001b[39m kde_color\n",
      "File \u001b[1;32m~\\AppData\\Local\\Programs\\Python\\Python311\\Lib\\site-packages\\seaborn\\distributions.py:1717\u001b[0m, in \u001b[0;36mkdeplot\u001b[1;34m(data, x, y, hue, weights, palette, hue_order, hue_norm, color, fill, multiple, common_norm, common_grid, cumulative, bw_method, bw_adjust, warn_singular, log_scale, levels, thresh, gridsize, cut, clip, legend, cbar, cbar_ax, cbar_kws, ax, **kwargs)\u001b[0m\n\u001b[0;32m   1713\u001b[0m \u001b[38;5;28;01mif\u001b[39;00m p\u001b[38;5;241m.\u001b[39munivariate:\n\u001b[0;32m   1715\u001b[0m     plot_kws \u001b[38;5;241m=\u001b[39m kwargs\u001b[38;5;241m.\u001b[39mcopy()\n\u001b[1;32m-> 1717\u001b[0m     \u001b[43mp\u001b[49m\u001b[38;5;241;43m.\u001b[39;49m\u001b[43mplot_univariate_density\u001b[49m\u001b[43m(\u001b[49m\n\u001b[0;32m   1718\u001b[0m \u001b[43m        \u001b[49m\u001b[43mmultiple\u001b[49m\u001b[38;5;241;43m=\u001b[39;49m\u001b[43mmultiple\u001b[49m\u001b[43m,\u001b[49m\n\u001b[0;32m   1719\u001b[0m \u001b[43m        \u001b[49m\u001b[43mcommon_norm\u001b[49m\u001b[38;5;241;43m=\u001b[39;49m\u001b[43mcommon_norm\u001b[49m\u001b[43m,\u001b[49m\n\u001b[0;32m   1720\u001b[0m \u001b[43m        \u001b[49m\u001b[43mcommon_grid\u001b[49m\u001b[38;5;241;43m=\u001b[39;49m\u001b[43mcommon_grid\u001b[49m\u001b[43m,\u001b[49m\n\u001b[0;32m   1721\u001b[0m \u001b[43m        \u001b[49m\u001b[43mfill\u001b[49m\u001b[38;5;241;43m=\u001b[39;49m\u001b[43mfill\u001b[49m\u001b[43m,\u001b[49m\n\u001b[0;32m   1722\u001b[0m \u001b[43m        \u001b[49m\u001b[43mcolor\u001b[49m\u001b[38;5;241;43m=\u001b[39;49m\u001b[43mcolor\u001b[49m\u001b[43m,\u001b[49m\n\u001b[0;32m   1723\u001b[0m \u001b[43m        \u001b[49m\u001b[43mlegend\u001b[49m\u001b[38;5;241;43m=\u001b[39;49m\u001b[43mlegend\u001b[49m\u001b[43m,\u001b[49m\n\u001b[0;32m   1724\u001b[0m \u001b[43m        \u001b[49m\u001b[43mwarn_singular\u001b[49m\u001b[38;5;241;43m=\u001b[39;49m\u001b[43mwarn_singular\u001b[49m\u001b[43m,\u001b[49m\n\u001b[0;32m   1725\u001b[0m \u001b[43m        \u001b[49m\u001b[43mestimate_kws\u001b[49m\u001b[38;5;241;43m=\u001b[39;49m\u001b[43mestimate_kws\u001b[49m\u001b[43m,\u001b[49m\n\u001b[0;32m   1726\u001b[0m \u001b[43m        \u001b[49m\u001b[38;5;241;43m*\u001b[39;49m\u001b[38;5;241;43m*\u001b[39;49m\u001b[43mplot_kws\u001b[49m\u001b[43m,\u001b[49m\n\u001b[0;32m   1727\u001b[0m \u001b[43m    \u001b[49m\u001b[43m)\u001b[49m\n\u001b[0;32m   1729\u001b[0m \u001b[38;5;28;01melse\u001b[39;00m:\n\u001b[0;32m   1731\u001b[0m     p\u001b[38;5;241m.\u001b[39mplot_bivariate_density(\n\u001b[0;32m   1732\u001b[0m         common_norm\u001b[38;5;241m=\u001b[39mcommon_norm,\n\u001b[0;32m   1733\u001b[0m         fill\u001b[38;5;241m=\u001b[39mfill,\n\u001b[1;32m   (...)\u001b[0m\n\u001b[0;32m   1743\u001b[0m         \u001b[38;5;241m*\u001b[39m\u001b[38;5;241m*\u001b[39mkwargs,\n\u001b[0;32m   1744\u001b[0m     )\n",
      "File \u001b[1;32m~\\AppData\\Local\\Programs\\Python\\Python311\\Lib\\site-packages\\seaborn\\distributions.py:937\u001b[0m, in \u001b[0;36m_DistributionPlotter.plot_univariate_density\u001b[1;34m(self, multiple, common_norm, common_grid, warn_singular, fill, color, legend, estimate_kws, **plot_kws)\u001b[0m\n\u001b[0;32m    934\u001b[0m log_scale \u001b[38;5;241m=\u001b[39m \u001b[38;5;28mself\u001b[39m\u001b[38;5;241m.\u001b[39m_log_scaled(\u001b[38;5;28mself\u001b[39m\u001b[38;5;241m.\u001b[39mdata_variable)\n\u001b[0;32m    936\u001b[0m \u001b[38;5;66;03m# Do the computation\u001b[39;00m\n\u001b[1;32m--> 937\u001b[0m densities \u001b[38;5;241m=\u001b[39m \u001b[38;5;28;43mself\u001b[39;49m\u001b[38;5;241;43m.\u001b[39;49m\u001b[43m_compute_univariate_density\u001b[49m\u001b[43m(\u001b[49m\n\u001b[0;32m    938\u001b[0m \u001b[43m    \u001b[49m\u001b[38;5;28;43mself\u001b[39;49m\u001b[38;5;241;43m.\u001b[39;49m\u001b[43mdata_variable\u001b[49m\u001b[43m,\u001b[49m\n\u001b[0;32m    939\u001b[0m \u001b[43m    \u001b[49m\u001b[43mcommon_norm\u001b[49m\u001b[43m,\u001b[49m\n\u001b[0;32m    940\u001b[0m \u001b[43m    \u001b[49m\u001b[43mcommon_grid\u001b[49m\u001b[43m,\u001b[49m\n\u001b[0;32m    941\u001b[0m \u001b[43m    \u001b[49m\u001b[43mestimate_kws\u001b[49m\u001b[43m,\u001b[49m\n\u001b[0;32m    942\u001b[0m \u001b[43m    \u001b[49m\u001b[43mlog_scale\u001b[49m\u001b[43m,\u001b[49m\n\u001b[0;32m    943\u001b[0m \u001b[43m    \u001b[49m\u001b[43mwarn_singular\u001b[49m\u001b[43m,\u001b[49m\n\u001b[0;32m    944\u001b[0m \u001b[43m\u001b[49m\u001b[43m)\u001b[49m\n\u001b[0;32m    946\u001b[0m \u001b[38;5;66;03m# Adjust densities based on the `multiple` rule\u001b[39;00m\n\u001b[0;32m    947\u001b[0m densities, baselines \u001b[38;5;241m=\u001b[39m \u001b[38;5;28mself\u001b[39m\u001b[38;5;241m.\u001b[39m_resolve_multiple(densities, multiple)\n",
      "File \u001b[1;32m~\\AppData\\Local\\Programs\\Python\\Python311\\Lib\\site-packages\\seaborn\\distributions.py:349\u001b[0m, in \u001b[0;36m_DistributionPlotter._compute_univariate_density\u001b[1;34m(self, data_variable, common_norm, common_grid, estimate_kws, log_scale, warn_singular)\u001b[0m\n\u001b[0;32m    345\u001b[0m \u001b[38;5;28;01mtry\u001b[39;00m:\n\u001b[0;32m    346\u001b[0m     \u001b[38;5;28;01mif\u001b[39;00m \u001b[38;5;129;01mnot\u001b[39;00m singular:\n\u001b[0;32m    347\u001b[0m         \u001b[38;5;66;03m# Convoluted approach needed because numerical failures\u001b[39;00m\n\u001b[0;32m    348\u001b[0m         \u001b[38;5;66;03m# can manifest in a few different ways.\u001b[39;00m\n\u001b[1;32m--> 349\u001b[0m         density, support \u001b[38;5;241m=\u001b[39m \u001b[43mestimator\u001b[49m\u001b[43m(\u001b[49m\u001b[43mobservations\u001b[49m\u001b[43m,\u001b[49m\u001b[43m \u001b[49m\u001b[43mweights\u001b[49m\u001b[38;5;241;43m=\u001b[39;49m\u001b[43mweights\u001b[49m\u001b[43m)\u001b[49m\n\u001b[0;32m    350\u001b[0m \u001b[38;5;28;01mexcept\u001b[39;00m np\u001b[38;5;241m.\u001b[39mlinalg\u001b[38;5;241m.\u001b[39mLinAlgError:\n\u001b[0;32m    351\u001b[0m     singular \u001b[38;5;241m=\u001b[39m \u001b[38;5;28;01mTrue\u001b[39;00m\n",
      "File \u001b[1;32m~\\AppData\\Local\\Programs\\Python\\Python311\\Lib\\site-packages\\seaborn\\_statistics.py:192\u001b[0m, in \u001b[0;36mKDE.__call__\u001b[1;34m(self, x1, x2, weights)\u001b[0m\n\u001b[0;32m    190\u001b[0m \u001b[38;5;250m\u001b[39m\u001b[38;5;124;03m\"\"\"Fit and evaluate on univariate or bivariate data.\"\"\"\u001b[39;00m\n\u001b[0;32m    191\u001b[0m \u001b[38;5;28;01mif\u001b[39;00m x2 \u001b[38;5;129;01mis\u001b[39;00m \u001b[38;5;28;01mNone\u001b[39;00m:\n\u001b[1;32m--> 192\u001b[0m     \u001b[38;5;28;01mreturn\u001b[39;00m \u001b[38;5;28;43mself\u001b[39;49m\u001b[38;5;241;43m.\u001b[39;49m\u001b[43m_eval_univariate\u001b[49m\u001b[43m(\u001b[49m\u001b[43mx1\u001b[49m\u001b[43m,\u001b[49m\u001b[43m \u001b[49m\u001b[43mweights\u001b[49m\u001b[43m)\u001b[49m\n\u001b[0;32m    193\u001b[0m \u001b[38;5;28;01melse\u001b[39;00m:\n\u001b[0;32m    194\u001b[0m     \u001b[38;5;28;01mreturn\u001b[39;00m \u001b[38;5;28mself\u001b[39m\u001b[38;5;241m.\u001b[39m_eval_bivariate(x1, x2, weights)\n",
      "File \u001b[1;32m~\\AppData\\Local\\Programs\\Python\\Python311\\Lib\\site-packages\\seaborn\\_statistics.py:161\u001b[0m, in \u001b[0;36mKDE._eval_univariate\u001b[1;34m(self, x, weights)\u001b[0m\n\u001b[0;32m    157\u001b[0m     density \u001b[38;5;241m=\u001b[39m np\u001b[38;5;241m.\u001b[39marray([\n\u001b[0;32m    158\u001b[0m         kde\u001b[38;5;241m.\u001b[39mintegrate_box_1d(s_0, s_i) \u001b[38;5;28;01mfor\u001b[39;00m s_i \u001b[38;5;129;01min\u001b[39;00m support\n\u001b[0;32m    159\u001b[0m     ])\n\u001b[0;32m    160\u001b[0m \u001b[38;5;28;01melse\u001b[39;00m:\n\u001b[1;32m--> 161\u001b[0m     density \u001b[38;5;241m=\u001b[39m \u001b[43mkde\u001b[49m\u001b[43m(\u001b[49m\u001b[43msupport\u001b[49m\u001b[43m)\u001b[49m\n\u001b[0;32m    163\u001b[0m \u001b[38;5;28;01mreturn\u001b[39;00m density, support\n",
      "File \u001b[1;32m~\\AppData\\Local\\Programs\\Python\\Python311\\Lib\\site-packages\\scipy\\stats\\_kde.py:268\u001b[0m, in \u001b[0;36mgaussian_kde.evaluate\u001b[1;34m(self, points)\u001b[0m\n\u001b[0;32m    265\u001b[0m         \u001b[38;5;28;01mraise\u001b[39;00m \u001b[38;5;167;01mValueError\u001b[39;00m(msg)\n\u001b[0;32m    267\u001b[0m output_dtype, spec \u001b[38;5;241m=\u001b[39m _get_output_dtype(\u001b[38;5;28mself\u001b[39m\u001b[38;5;241m.\u001b[39mcovariance, points)\n\u001b[1;32m--> 268\u001b[0m result \u001b[38;5;241m=\u001b[39m \u001b[43mgaussian_kernel_estimate\u001b[49m\u001b[43m[\u001b[49m\u001b[43mspec\u001b[49m\u001b[43m]\u001b[49m\u001b[43m(\u001b[49m\n\u001b[0;32m    269\u001b[0m \u001b[43m    \u001b[49m\u001b[38;5;28;43mself\u001b[39;49m\u001b[38;5;241;43m.\u001b[39;49m\u001b[43mdataset\u001b[49m\u001b[38;5;241;43m.\u001b[39;49m\u001b[43mT\u001b[49m\u001b[43m,\u001b[49m\u001b[43m \u001b[49m\u001b[38;5;28;43mself\u001b[39;49m\u001b[38;5;241;43m.\u001b[39;49m\u001b[43mweights\u001b[49m\u001b[43m[\u001b[49m\u001b[43m:\u001b[49m\u001b[43m,\u001b[49m\u001b[43m \u001b[49m\u001b[38;5;28;43;01mNone\u001b[39;49;00m\u001b[43m]\u001b[49m\u001b[43m,\u001b[49m\n\u001b[0;32m    270\u001b[0m \u001b[43m    \u001b[49m\u001b[43mpoints\u001b[49m\u001b[38;5;241;43m.\u001b[39;49m\u001b[43mT\u001b[49m\u001b[43m,\u001b[49m\u001b[43m \u001b[49m\u001b[38;5;28;43mself\u001b[39;49m\u001b[38;5;241;43m.\u001b[39;49m\u001b[43mcho_cov\u001b[49m\u001b[43m,\u001b[49m\u001b[43m \u001b[49m\u001b[43moutput_dtype\u001b[49m\u001b[43m)\u001b[49m\n\u001b[0;32m    272\u001b[0m \u001b[38;5;28;01mreturn\u001b[39;00m result[:, \u001b[38;5;241m0\u001b[39m]\n",
      "\u001b[1;31mKeyboardInterrupt\u001b[0m: "
     ]
    },
    {
     "data": {
      "image/png": "[encoded data removed]",
      "text/plain": [
       "<Figure size 640x480 with 1 Axes>"
      ]
     },
     "metadata": {},
     "output_type": "display_data"
    }
   ],
   "source": [
    "sns.distplot(x)"
   ]
  },
  {
   "cell_type": "code",
   "execution_count": 54,
   "id": "53de567d-2ad0-435c-bd02-162e7af8b3d6",
   "metadata": {},
   "outputs": [
    {
     "data": {
      "text/html": [
       "<style>#sk-container-id-1 {color: black;}#sk-container-id-1 pre{padding: 0;}#sk-container-id-1 div.sk-toggleable {background-color: white;}#sk-container-id-1 label.sk-toggleable__label {cursor: pointer;display: block;width: 100%;margin-bottom: 0;padding: 0.3em;box-sizing: border-box;text-align: center;}#sk-container-id-1 label.sk-toggleable__label-arrow:before {content: \"▸\";float: left;margin-right: 0.25em;color: #696969;}#sk-container-id-1 label.sk-toggleable__label-arrow:hover:before {color: black;}#sk-container-id-1 div.sk-estimator:hover label.sk-toggleable__label-arrow:before {color: black;}#sk-container-id-1 div.sk-toggleable__content {max-height: 0;max-width: 0;overflow: hidden;text-align: left;background-color: #f0f8ff;}#sk-container-id-1 div.sk-toggleable__content pre {margin: 0.2em;color: black;border-radius: 0.25em;background-color: #f0f8ff;}#sk-container-id-1 input.sk-toggleable__control:checked~div.sk-toggleable__content {max-height: 200px;max-width: 100%;overflow: auto;}#sk-container-id-1 input.sk-toggleable__control:checked~label.sk-toggleable__label-arrow:before {content: \"▾\";}#sk-container-id-1 div.sk-estimator input.sk-toggleable__control:checked~label.sk-toggleable__label {background-color: #d4ebff;}#sk-container-id-1 div.sk-label input.sk-toggleable__control:checked~label.sk-toggleable__label {background-color: #d4ebff;}#sk-container-id-1 input.sk-hidden--visually {border: 0;clip: rect(1px 1px 1px 1px);clip: rect(1px, 1px, 1px, 1px);height: 1px;margin: -1px;overflow: hidden;padding: 0;position: absolute;width: 1px;}#sk-container-id-1 div.sk-estimator {font-family: monospace;background-color: #f0f8ff;border: 1px dotted black;border-radius: 0.25em;box-sizing: border-box;margin-bottom: 0.5em;}#sk-container-id-1 div.sk-estimator:hover {background-color: #d4ebff;}#sk-container-id-1 div.sk-parallel-item::after {content: \"\";width: 100%;border-bottom: 1px solid gray;flex-grow: 1;}#sk-container-id-1 div.sk-label:hover label.sk-toggleable__label {background-color: #d4ebff;}#sk-container-id-1 div.sk-serial::before {content: \"\";position: absolute;border-left: 1px solid gray;box-sizing: border-box;top: 0;bottom: 0;left: 50%;z-index: 0;}#sk-container-id-1 div.sk-serial {display: flex;flex-direction: column;align-items: center;background-color: white;padding-right: 0.2em;padding-left: 0.2em;position: relative;}#sk-container-id-1 div.sk-item {position: relative;z-index: 1;}#sk-container-id-1 div.sk-parallel {display: flex;align-items: stretch;justify-content: center;background-color: white;position: relative;}#sk-container-id-1 div.sk-item::before, #sk-container-id-1 div.sk-parallel-item::before {content: \"\";position: absolute;border-left: 1px solid gray;box-sizing: border-box;top: 0;bottom: 0;left: 50%;z-index: -1;}#sk-container-id-1 div.sk-parallel-item {display: flex;flex-direction: column;z-index: 1;position: relative;background-color: white;}#sk-container-id-1 div.sk-parallel-item:first-child::after {align-self: flex-end;width: 50%;}#sk-container-id-1 div.sk-parallel-item:last-child::after {align-self: flex-start;width: 50%;}#sk-container-id-1 div.sk-parallel-item:only-child::after {width: 0;}#sk-container-id-1 div.sk-dashed-wrapped {border: 1px dashed gray;margin: 0 0.4em 0.5em 0.4em;box-sizing: border-box;padding-bottom: 0.4em;background-color: white;}#sk-container-id-1 div.sk-label label {font-family: monospace;font-weight: bold;display: inline-block;line-height: 1.2em;}#sk-container-id-1 div.sk-label-container {text-align: center;}#sk-container-id-1 div.sk-container {/* jupyter's `normalize.less` sets `[hidden] { display: none; }` but bootstrap.min.css set `[hidden] { display: none !important; }` so we also need the `!important` here to be able to override the default hidden behavior on the sphinx rendered scikit-learn.org. See: https://github.com/scikit-learn/scikit-learn/issues/21755 */display: inline-block !important;position: relative;}#sk-container-id-1 div.sk-text-repr-fallback {display: none;}</style><div id=\"sk-container-id-1\" class=\"sk-top-container\"><div class=\"sk-text-repr-fallback\"><pre>GaussianNB()</pre><b>In a Jupyter environment, please rerun this cell to show the HTML representation or trust the notebook. <br />On GitHub, the HTML representation is unable to render, please try loading this page with nbviewer.org.</b></div><div class=\"sk-container\" hidden><div class=\"sk-item\"><div class=\"sk-estimator sk-toggleable\"><input class=\"sk-toggleable__control sk-hidden--visually\" id=\"sk-estimator-id-1\" type=\"checkbox\" checked><label for=\"sk-estimator-id-1\" class=\"sk-toggleable__label sk-toggleable__label-arrow\">GaussianNB</label><div class=\"sk-toggleable__content\"><pre>GaussianNB()</pre></div></div></div></div></div>"
      ],
      "text/plain": [
       "GaussianNB()"
      ]
     },
     "execution_count": 54,
     "metadata": {},
     "output_type": "execute_result"
    }
   ],
   "source": [
    "gnb=GaussianNB()\n",
    "gnb.fit(X_train,y_train)"
   ]
  },
  {
   "cell_type": "code",
   "execution_count": 55,
   "id": "ff90d930-1996-4d95-ac2f-0c57ea66acd3",
   "metadata": {},
   "outputs": [
    {
     "data": {
      "text/plain": [
       "0.6280577659888005"
      ]
     },
     "execution_count": 55,
     "metadata": {},
     "output_type": "execute_result"
    }
   ],
   "source": [
    "gnb.score(X_test,y_test)"
   ]
  },
  {
   "cell_type": "code",
   "execution_count": 59,
   "id": "cf811af3-0411-4323-b9e5-d4ffbc5898b1",
   "metadata": {},
   "outputs": [
    {
     "data": {
      "text/html": [
       "<style>#sk-container-id-2 {color: black;}#sk-container-id-2 pre{padding: 0;}#sk-container-id-2 div.sk-toggleable {background-color: white;}#sk-container-id-2 label.sk-toggleable__label {cursor: pointer;display: block;width: 100%;margin-bottom: 0;padding: 0.3em;box-sizing: border-box;text-align: center;}#sk-container-id-2 label.sk-toggleable__label-arrow:before {content: \"▸\";float: left;margin-right: 0.25em;color: #696969;}#sk-container-id-2 label.sk-toggleable__label-arrow:hover:before {color: black;}#sk-container-id-2 div.sk-estimator:hover label.sk-toggleable__label-arrow:before {color: black;}#sk-container-id-2 div.sk-toggleable__content {max-height: 0;max-width: 0;overflow: hidden;text-align: left;background-color: #f0f8ff;}#sk-container-id-2 div.sk-toggleable__content pre {margin: 0.2em;color: black;border-radius: 0.25em;background-color: #f0f8ff;}#sk-container-id-2 input.sk-toggleable__control:checked~div.sk-toggleable__content {max-height: 200px;max-width: 100%;overflow: auto;}#sk-container-id-2 input.sk-toggleable__control:checked~label.sk-toggleable__label-arrow:before {content: \"▾\";}#sk-container-id-2 div.sk-estimator input.sk-toggleable__control:checked~label.sk-toggleable__label {background-color: #d4ebff;}#sk-container-id-2 div.sk-label input.sk-toggleable__control:checked~label.sk-toggleable__label {background-color: #d4ebff;}#sk-container-id-2 input.sk-hidden--visually {border: 0;clip: rect(1px 1px 1px 1px);clip: rect(1px, 1px, 1px, 1px);height: 1px;margin: -1px;overflow: hidden;padding: 0;position: absolute;width: 1px;}#sk-container-id-2 div.sk-estimator {font-family: monospace;background-color: #f0f8ff;border: 1px dotted black;border-radius: 0.25em;box-sizing: border-box;margin-bottom: 0.5em;}#sk-container-id-2 div.sk-estimator:hover {background-color: #d4ebff;}#sk-container-id-2 div.sk-parallel-item::after {content: \"\";width: 100%;border-bottom: 1px solid gray;flex-grow: 1;}#sk-container-id-2 div.sk-label:hover label.sk-toggleable__label {background-color: #d4ebff;}#sk-container-id-2 div.sk-serial::before {content: \"\";position: absolute;border-left: 1px solid gray;box-sizing: border-box;top: 0;bottom: 0;left: 50%;z-index: 0;}#sk-container-id-2 div.sk-serial {display: flex;flex-direction: column;align-items: center;background-color: white;padding-right: 0.2em;padding-left: 0.2em;position: relative;}#sk-container-id-2 div.sk-item {position: relative;z-index: 1;}#sk-container-id-2 div.sk-parallel {display: flex;align-items: stretch;justify-content: center;background-color: white;position: relative;}#sk-container-id-2 div.sk-item::before, #sk-container-id-2 div.sk-parallel-item::before {content: \"\";position: absolute;border-left: 1px solid gray;box-sizing: border-box;top: 0;bottom: 0;left: 50%;z-index: -1;}#sk-container-id-2 div.sk-parallel-item {display: flex;flex-direction: column;z-index: 1;position: relative;background-color: white;}#sk-container-id-2 div.sk-parallel-item:first-child::after {align-self: flex-end;width: 50%;}#sk-container-id-2 div.sk-parallel-item:last-child::after {align-self: flex-start;width: 50%;}#sk-container-id-2 div.sk-parallel-item:only-child::after {width: 0;}#sk-container-id-2 div.sk-dashed-wrapped {border: 1px dashed gray;margin: 0 0.4em 0.5em 0.4em;box-sizing: border-box;padding-bottom: 0.4em;background-color: white;}#sk-container-id-2 div.sk-label label {font-family: monospace;font-weight: bold;display: inline-block;line-height: 1.2em;}#sk-container-id-2 div.sk-label-container {text-align: center;}#sk-container-id-2 div.sk-container {/* jupyter's `normalize.less` sets `[hidden] { display: none; }` but bootstrap.min.css set `[hidden] { display: none !important; }` so we also need the `!important` here to be able to override the default hidden behavior on the sphinx rendered scikit-learn.org. See: https://github.com/scikit-learn/scikit-learn/issues/21755 */display: inline-block !important;position: relative;}#sk-container-id-2 div.sk-text-repr-fallback {display: none;}</style><div id=\"sk-container-id-2\" class=\"sk-top-container\"><div class=\"sk-text-repr-fallback\"><pre>KNeighborsClassifier()</pre><b>In a Jupyter environment, please rerun this cell to show the HTML representation or trust the notebook. <br />On GitHub, the HTML representation is unable to render, please try loading this page with nbviewer.org.</b></div><div class=\"sk-container\" hidden><div class=\"sk-item\"><div class=\"sk-estimator sk-toggleable\"><input class=\"sk-toggleable__control sk-hidden--visually\" id=\"sk-estimator-id-2\" type=\"checkbox\" checked><label for=\"sk-estimator-id-2\" class=\"sk-toggleable__label sk-toggleable__label-arrow\">KNeighborsClassifier</label><div class=\"sk-toggleable__content\"><pre>KNeighborsClassifier()</pre></div></div></div></div></div>"
      ],
      "text/plain": [
       "KNeighborsClassifier()"
      ]
     },
     "execution_count": 59,
     "metadata": {},
     "output_type": "execute_result"
    }
   ],
   "source": [
    "knn=KNeighborsClassifier()\n",
    "knn.fit(X_train,y_train)"
   ]
  },
  {
   "cell_type": "code",
   "execution_count": 60,
   "id": "ad79ecf9-8726-4150-a023-615c55b840b7",
   "metadata": {},
   "outputs": [
    {
     "data": {
      "text/plain": [
       "0.7754199823165341"
      ]
     },
     "execution_count": 60,
     "metadata": {},
     "output_type": "execute_result"
    }
   ],
   "source": [
    "knn.score(X_test,y_test)"
   ]
  },
  {
   "cell_type": "code",
   "execution_count": 71,
   "id": "7353675f-5220-48ba-8e71-f6665bde99ea",
   "metadata": {},
   "outputs": [],
   "source": [
    "import tensorflow as tf\n",
    "from tensorflow import keras"
   ]
  },
  {
   "cell_type": "code",
   "execution_count": 75,
   "id": "84625fb6-76bf-48c1-b71c-e0b134495d60",
   "metadata": {},
   "outputs": [],
   "source": [
    "model=keras.Sequential()\n",
    "model.add(keras.layers.GRU(64,input_shape=(300,1)))\n",
    "model.add(keras.layers.Dense(128,activation='relu'))\n",
    "model.add(keras.layers.Dense(64,activation='relu'))\n",
    "model.add(keras.layers.Dense(32,activation='relu'))\n",
    "model.add(keras.layers.Dense(4,activation='sigmoid'))\n",
    "model.compile(loss='sparse_categorical_crossentropy',optimizer='adam',metrics=['accuracy'])"
   ]
  },
  {
   "cell_type": "code",
   "execution_count": 76,
   "id": "cd75d5fc-e12e-48f4-8521-9aa11464edaf",
   "metadata": {},
   "outputs": [
    {
     "name": "stdout",
     "output_type": "stream",
     "text": [
      "Model: \"sequential_2\"\n",
      "_________________________________________________________________\n",
      " Layer (type)                Output Shape              Param #   \n",
      "=================================================================\n",
      " gru (GRU)                   (None, 64)                12864     \n",
      "                                                                 \n",
      " dense_6 (Dense)             (None, 128)               8320      \n",
      "                                                                 \n",
      " dense_7 (Dense)             (None, 64)                8256      \n",
      "                                                                 \n",
      " dense_8 (Dense)             (None, 32)                2080      \n",
      "                                                                 \n",
      " dense_9 (Dense)             (None, 4)                 132       \n",
      "                                                                 \n",
      "=================================================================\n",
      "Total params: 31652 (123.64 KB)\n",
      "Trainable params: 31652 (123.64 KB)\n",
      "Non-trainable params: 0 (0.00 Byte)\n",
      "_________________________________________________________________\n"
     ]
    }
   ],
   "source": [
    "model.summary()"
   ]
  },
  {
   "cell_type": "code",
   "execution_count": 77,
   "id": "8359d3d1-4db9-44b1-9645-886740c1aded",
   "metadata": {},
   "outputs": [
    {
     "name": "stdout",
     "output_type": "stream",
     "text": [
      "Epoch 1/5\n",
      "953/953 [==============================] - 129s 130ms/step - loss: 0.8799 - accuracy: 0.6292\n",
      "Epoch 2/5\n",
      "953/953 [==============================] - 143s 150ms/step - loss: 0.7059 - accuracy: 0.7036\n",
      "Epoch 3/5\n",
      "953/953 [==============================] - 136s 142ms/step - loss: 0.6456 - accuracy: 0.7226\n",
      "Epoch 4/5\n",
      "953/953 [==============================] - 180s 189ms/step - loss: 0.6161 - accuracy: 0.7325\n",
      "Epoch 5/5\n",
      "953/953 [==============================] - 138s 145ms/step - loss: 0.5978 - accuracy: 0.7385\n"
     ]
    },
    {
     "data": {
      "text/plain": [
       "<keras.src.callbacks.History at 0x1408b31c3d0>"
      ]
     },
     "execution_count": 77,
     "metadata": {},
     "output_type": "execute_result"
    }
   ],
   "source": [
    "model.fit(X_train,y_train,epochs=5)"
   ]
  },
  {
   "cell_type": "code",
   "execution_count": 73,
   "id": "f937d28d-9a15-4833-aea5-f0a90ca7a05c",
   "metadata": {},
   "outputs": [
    {
     "name": "stdout",
     "output_type": "stream",
     "text": [
      "Model: \"sequential_1\"\n",
      "_________________________________________________________________\n",
      " Layer (type)                Output Shape              Param #   \n",
      "=================================================================\n",
      " lstm_1 (LSTM)               (None, 64)                16896     \n",
      "                                                                 \n",
      " dense_3 (Dense)             (None, 64)                4160      \n",
      "                                                                 \n",
      " dense_4 (Dense)             (None, 32)                2080      \n",
      "                                                                 \n",
      " dense_5 (Dense)             (None, 4)                 132       \n",
      "                                                                 \n",
      "=================================================================\n",
      "Total params: 23268 (90.89 KB)\n",
      "Trainable params: 23268 (90.89 KB)\n",
      "Non-trainable params: 0 (0.00 Byte)\n",
      "_________________________________________________________________\n"
     ]
    }
   ],
   "source": [
    "lstm=keras.Sequential()\n",
    "lstm.add(keras.layers.LSTM(64,input_shape=(300,1)))\n",
    "lstm.add(keras.layers.Dense(64,activation='relu'))\n",
    "lstm.add(keras.layers.Dense(32,activation='relu'))\n",
    "lstm.add(keras.layers.Dense(4,activation='sigmoid'))\n",
    "lstm.compile(loss='sparse_categorical_crossentropy',optimizer='adam',metrics=['accuracy'])\n",
    "lstm.summary()"
   ]
  },
  {
   "cell_type": "code",
   "execution_count": 74,
   "id": "a45b1356-211f-4349-a14c-0a117a4b9e31",
   "metadata": {},
   "outputs": [
    {
     "name": "stdout",
     "output_type": "stream",
     "text": [
      "Epoch 1/10\n",
      "953/953 [==============================] - 167s 168ms/step - loss: 0.8011 - accuracy: 0.6703\n",
      "Epoch 2/10\n",
      "953/953 [==============================] - 163s 171ms/step - loss: 0.6498 - accuracy: 0.7202\n",
      "Epoch 3/10\n",
      "953/953 [==============================] - 138s 144ms/step - loss: 0.5905 - accuracy: 0.7373\n",
      "Epoch 4/10\n",
      "953/953 [==============================] - 145s 153ms/step - loss: 0.5658 - accuracy: 0.7451\n",
      "Epoch 5/10\n",
      "953/953 [==============================] - 135s 142ms/step - loss: 0.5554 - accuracy: 0.7495\n",
      "Epoch 6/10\n",
      "953/953 [==============================] - 141s 148ms/step - loss: 0.5409 - accuracy: 0.7552\n",
      "Epoch 7/10\n",
      "953/953 [==============================] - 176s 185ms/step - loss: 0.5304 - accuracy: 0.7575\n",
      "Epoch 8/10\n",
      "953/953 [==============================] - 135s 142ms/step - loss: 0.5210 - accuracy: 0.7615\n",
      "Epoch 9/10\n",
      "953/953 [==============================] - 138s 145ms/step - loss: 0.5116 - accuracy: 0.7653\n",
      "Epoch 10/10\n",
      "953/953 [==============================] - 130s 137ms/step - loss: 0.5061 - accuracy: 0.7644\n"
     ]
    }
   ],
   "source": [
    "history1=lstm.fit(X_train,y_train,epochs=10)"
   ]
  },
  {
   "cell_type": "code",
   "execution_count": 69,
   "id": "13263caf-d0ed-4924-bd70-d6b7da54f228",
   "metadata": {},
   "outputs": [
    {
     "name": "stdout",
     "output_type": "stream",
     "text": [
      "Epoch 1/5\n",
      "955/955 [==============================] - 125s 131ms/step - loss: 0.5873 - accuracy: 0.7437\n",
      "Epoch 2/5\n",
      "955/955 [==============================] - 125s 131ms/step - loss: 0.5776 - accuracy: 0.7444\n",
      "Epoch 3/5\n",
      "955/955 [==============================] - 124s 130ms/step - loss: 0.5677 - accuracy: 0.7484\n",
      "Epoch 4/5\n",
      "955/955 [==============================] - 126s 132ms/step - loss: 0.5583 - accuracy: 0.7508\n",
      "Epoch 5/5\n",
      "955/955 [==============================] - 127s 133ms/step - loss: 0.5491 - accuracy: 0.7545\n"
     ]
    }
   ],
   "source": [
    "gru_history=model.fit(X_train,y_train,epochs=5)"
   ]
  },
  {
   "cell_type": "code",
   "execution_count": 78,
   "id": "f64e57f8-bf05-40a3-949e-4998f50a93a9",
   "metadata": {},
   "outputs": [
    {
     "name": "stdout",
     "output_type": "stream",
     "text": [
      "Epoch 1/10\n",
      "953/953 [==============================] - 168s 177ms/step - loss: 0.5052 - accuracy: 0.7662\n",
      "Epoch 2/10\n",
      "953/953 [==============================] - 171s 180ms/step - loss: 0.4956 - accuracy: 0.7692\n",
      "Epoch 3/10\n",
      "953/953 [==============================] - 154s 161ms/step - loss: 0.4937 - accuracy: 0.7701\n",
      "Epoch 4/10\n",
      "953/953 [==============================] - 165s 173ms/step - loss: 0.4871 - accuracy: 0.7741\n",
      "Epoch 5/10\n",
      "953/953 [==============================] - 161s 169ms/step - loss: 0.4795 - accuracy: 0.7751\n",
      "Epoch 6/10\n",
      "953/953 [==============================] - 139s 146ms/step - loss: 0.4722 - accuracy: 0.7768\n",
      "Epoch 7/10\n",
      "953/953 [==============================] - 142s 149ms/step - loss: 0.4698 - accuracy: 0.7790\n",
      "Epoch 8/10\n",
      "953/953 [==============================] - 127s 133ms/step - loss: 0.4672 - accuracy: 0.7792\n",
      "Epoch 9/10\n",
      "953/953 [==============================] - 128s 135ms/step - loss: 0.4641 - accuracy: 0.7802\n",
      "Epoch 10/10\n",
      "953/953 [==============================] - 143s 150ms/step - loss: 0.4574 - accuracy: 0.7829\n"
     ]
    }
   ],
   "source": [
    "history2=lstm.fit(X_train,y_train,epochs=10)"
   ]
  },
  {
   "cell_type": "code",
   "execution_count": 99,
   "id": "c647de0d-b9b5-4f4f-836e-b6f7a3671ca8",
   "metadata": {},
   "outputs": [
    {
     "name": "stdout",
     "output_type": "stream",
     "text": [
      "Epoch 1/15\n",
      "953/953 [==============================] - 132s 138ms/step - loss: 0.4503 - accuracy: 0.7867\n",
      "Epoch 2/15\n",
      "953/953 [==============================] - 128s 135ms/step - loss: 0.4514 - accuracy: 0.7859\n",
      "Epoch 3/15\n",
      "953/953 [==============================] - 129s 135ms/step - loss: 0.4500 - accuracy: 0.7839\n",
      "Epoch 4/15\n",
      "953/953 [==============================] - 127s 134ms/step - loss: 0.4410 - accuracy: 0.7897\n",
      "Epoch 5/15\n",
      "953/953 [==============================] - 126s 132ms/step - loss: 0.4395 - accuracy: 0.7876\n",
      "Epoch 6/15\n",
      "953/953 [==============================] - 127s 133ms/step - loss: 0.4382 - accuracy: 0.7888\n",
      "Epoch 7/15\n",
      "953/953 [==============================] - 127s 134ms/step - loss: 0.4366 - accuracy: 0.7917\n",
      "Epoch 8/15\n",
      "953/953 [==============================] - 128s 135ms/step - loss: 0.4329 - accuracy: 0.7898\n",
      "Epoch 9/15\n",
      "953/953 [==============================] - 128s 135ms/step - loss: 0.4274 - accuracy: 0.7950\n",
      "Epoch 10/15\n",
      "953/953 [==============================] - 129s 136ms/step - loss: 0.4232 - accuracy: 0.7943\n",
      "Epoch 11/15\n",
      "953/953 [==============================] - 126s 132ms/step - loss: 0.4220 - accuracy: 0.7957\n",
      "Epoch 12/15\n",
      "953/953 [==============================] - 123s 129ms/step - loss: 0.4199 - accuracy: 0.7966\n",
      "Epoch 13/15\n",
      "953/953 [==============================] - 123s 129ms/step - loss: 0.4117 - accuracy: 0.8009\n",
      "Epoch 14/15\n",
      "953/953 [==============================] - 124s 130ms/step - loss: 0.4171 - accuracy: 0.7983\n",
      "Epoch 15/15\n",
      "953/953 [==============================] - 124s 130ms/step - loss: 0.4085 - accuracy: 0.8016\n"
     ]
    }
   ],
   "source": [
    "history3=lstm.fit(X_train,y_train,epochs=15)"
   ]
  },
  {
   "cell_type": "code",
   "execution_count": 94,
   "id": "dda26eee-89c8-4389-933f-3a6c1b5c6a37",
   "metadata": {},
   "outputs": [],
   "source": [
    "from sklearn.preprocessing import MinMaxScaler\n",
    "from sklearn.feature_extraction.text import CountVectorizer,TfidfVectorizer"
   ]
  },
  {
   "cell_type": "code",
   "execution_count": 80,
   "id": "b95a7f8e-61ee-46d5-9aea-e06b73d76e79",
   "metadata": {},
   "outputs": [],
   "source": [
    "vectorizer=CountVectorizer()\n",
    "x_vectorized=vectorizer.fit_transform(df.body.values)"
   ]
  },
  {
   "cell_type": "code",
   "execution_count": 92,
   "id": "a5514e6e-9c06-487a-9790-f92ef9f7d714",
   "metadata": {},
   "outputs": [],
   "source": [
    "x_tr,x_ts,y_tr,y_ts=train_test_split(x_vectorized,y,test_size=0.15)"
   ]
  },
  {
   "cell_type": "code",
   "execution_count": 89,
   "id": "cfa55788-d919-4898-938e-4c5c77317e7d",
   "metadata": {},
   "outputs": [],
   "source": [
    "from sklearn.naive_bayes import MultinomialNB"
   ]
  },
  {
   "cell_type": "code",
   "execution_count": 93,
   "id": "a5284c94-cdf9-4f5e-a7a2-5850ae992d2e",
   "metadata": {},
   "outputs": [
    {
     "data": {
      "text/html": [
       "<style>#sk-container-id-3 {color: black;}#sk-container-id-3 pre{padding: 0;}#sk-container-id-3 div.sk-toggleable {background-color: white;}#sk-container-id-3 label.sk-toggleable__label {cursor: pointer;display: block;width: 100%;margin-bottom: 0;padding: 0.3em;box-sizing: border-box;text-align: center;}#sk-container-id-3 label.sk-toggleable__label-arrow:before {content: \"▸\";float: left;margin-right: 0.25em;color: #696969;}#sk-container-id-3 label.sk-toggleable__label-arrow:hover:before {color: black;}#sk-container-id-3 div.sk-estimator:hover label.sk-toggleable__label-arrow:before {color: black;}#sk-container-id-3 div.sk-toggleable__content {max-height: 0;max-width: 0;overflow: hidden;text-align: left;background-color: #f0f8ff;}#sk-container-id-3 div.sk-toggleable__content pre {margin: 0.2em;color: black;border-radius: 0.25em;background-color: #f0f8ff;}#sk-container-id-3 input.sk-toggleable__control:checked~div.sk-toggleable__content {max-height: 200px;max-width: 100%;overflow: auto;}#sk-container-id-3 input.sk-toggleable__control:checked~label.sk-toggleable__label-arrow:before {content: \"▾\";}#sk-container-id-3 div.sk-estimator input.sk-toggleable__control:checked~label.sk-toggleable__label {background-color: #d4ebff;}#sk-container-id-3 div.sk-label input.sk-toggleable__control:checked~label.sk-toggleable__label {background-color: #d4ebff;}#sk-container-id-3 input.sk-hidden--visually {border: 0;clip: rect(1px 1px 1px 1px);clip: rect(1px, 1px, 1px, 1px);height: 1px;margin: -1px;overflow: hidden;padding: 0;position: absolute;width: 1px;}#sk-container-id-3 div.sk-estimator {font-family: monospace;background-color: #f0f8ff;border: 1px dotted black;border-radius: 0.25em;box-sizing: border-box;margin-bottom: 0.5em;}#sk-container-id-3 div.sk-estimator:hover {background-color: #d4ebff;}#sk-container-id-3 div.sk-parallel-item::after {content: \"\";width: 100%;border-bottom: 1px solid gray;flex-grow: 1;}#sk-container-id-3 div.sk-label:hover label.sk-toggleable__label {background-color: #d4ebff;}#sk-container-id-3 div.sk-serial::before {content: \"\";position: absolute;border-left: 1px solid gray;box-sizing: border-box;top: 0;bottom: 0;left: 50%;z-index: 0;}#sk-container-id-3 div.sk-serial {display: flex;flex-direction: column;align-items: center;background-color: white;padding-right: 0.2em;padding-left: 0.2em;position: relative;}#sk-container-id-3 div.sk-item {position: relative;z-index: 1;}#sk-container-id-3 div.sk-parallel {display: flex;align-items: stretch;justify-content: center;background-color: white;position: relative;}#sk-container-id-3 div.sk-item::before, #sk-container-id-3 div.sk-parallel-item::before {content: \"\";position: absolute;border-left: 1px solid gray;box-sizing: border-box;top: 0;bottom: 0;left: 50%;z-index: -1;}#sk-container-id-3 div.sk-parallel-item {display: flex;flex-direction: column;z-index: 1;position: relative;background-color: white;}#sk-container-id-3 div.sk-parallel-item:first-child::after {align-self: flex-end;width: 50%;}#sk-container-id-3 div.sk-parallel-item:last-child::after {align-self: flex-start;width: 50%;}#sk-container-id-3 div.sk-parallel-item:only-child::after {width: 0;}#sk-container-id-3 div.sk-dashed-wrapped {border: 1px dashed gray;margin: 0 0.4em 0.5em 0.4em;box-sizing: border-box;padding-bottom: 0.4em;background-color: white;}#sk-container-id-3 div.sk-label label {font-family: monospace;font-weight: bold;display: inline-block;line-height: 1.2em;}#sk-container-id-3 div.sk-label-container {text-align: center;}#sk-container-id-3 div.sk-container {/* jupyter's `normalize.less` sets `[hidden] { display: none; }` but bootstrap.min.css set `[hidden] { display: none !important; }` so we also need the `!important` here to be able to override the default hidden behavior on the sphinx rendered scikit-learn.org. See: https://github.com/scikit-learn/scikit-learn/issues/21755 */display: inline-block !important;position: relative;}#sk-container-id-3 div.sk-text-repr-fallback {display: none;}</style><div id=\"sk-container-id-3\" class=\"sk-top-container\"><div class=\"sk-text-repr-fallback\"><pre>MultinomialNB()</pre><b>In a Jupyter environment, please rerun this cell to show the HTML representation or trust the notebook. <br />On GitHub, the HTML representation is unable to render, please try loading this page with nbviewer.org.</b></div><div class=\"sk-container\" hidden><div class=\"sk-item\"><div class=\"sk-estimator sk-toggleable\"><input class=\"sk-toggleable__control sk-hidden--visually\" id=\"sk-estimator-id-3\" type=\"checkbox\" checked><label for=\"sk-estimator-id-3\" class=\"sk-toggleable__label sk-toggleable__label-arrow\">MultinomialNB</label><div class=\"sk-toggleable__content\"><pre>MultinomialNB()</pre></div></div></div></div></div>"
      ],
      "text/plain": [
       "MultinomialNB()"
      ]
     },
     "execution_count": 93,
     "metadata": {},
     "output_type": "execute_result"
    }
   ],
   "source": [
    "mnb=MultinomialNB()\n",
    "mnb.fit(x_tr,y_tr)"
   ]
  },
  {
   "cell_type": "code",
   "execution_count": 91,
   "id": "2fbc12a6-bd56-4bc1-9104-2e960e6d42b3",
   "metadata": {},
   "outputs": [
    {
     "data": {
      "text/plain": [
       "0.8070486316203977"
      ]
     },
     "execution_count": 91,
     "metadata": {},
     "output_type": "execute_result"
    }
   ],
   "source": [
    "mnb.score(x_ts,y_ts)"
   ]
  },
  {
   "cell_type": "code",
   "execution_count": 95,
   "id": "c6aecbcc-5adc-485f-b1b6-96c0d28ccd00",
   "metadata": {},
   "outputs": [],
   "source": [
    "tfidf=TfidfVectorizer()\n",
    "x_tfidf=tfidf.fit_transform(df.body.values)"
   ]
  },
  {
   "cell_type": "code",
   "execution_count": 96,
   "id": "22632cbe-3267-4308-bb31-580778eff9ac",
   "metadata": {},
   "outputs": [],
   "source": [
    "x_tfidf_tr,x_tfidf_ts,y_tfidf_tr,y_tfidf_ts=train_test_split(x_tfidf,y,test_size=0.15)"
   ]
  },
  {
   "cell_type": "code",
   "execution_count": 97,
   "id": "1af20f4c-c502-4327-b03a-d3f04d9ec6be",
   "metadata": {},
   "outputs": [
    {
     "data": {
      "text/html": [
       "<style>#sk-container-id-4 {color: black;}#sk-container-id-4 pre{padding: 0;}#sk-container-id-4 div.sk-toggleable {background-color: white;}#sk-container-id-4 label.sk-toggleable__label {cursor: pointer;display: block;width: 100%;margin-bottom: 0;padding: 0.3em;box-sizing: border-box;text-align: center;}#sk-container-id-4 label.sk-toggleable__label-arrow:before {content: \"▸\";float: left;margin-right: 0.25em;color: #696969;}#sk-container-id-4 label.sk-toggleable__label-arrow:hover:before {color: black;}#sk-container-id-4 div.sk-estimator:hover label.sk-toggleable__label-arrow:before {color: black;}#sk-container-id-4 div.sk-toggleable__content {max-height: 0;max-width: 0;overflow: hidden;text-align: left;background-color: #f0f8ff;}#sk-container-id-4 div.sk-toggleable__content pre {margin: 0.2em;color: black;border-radius: 0.25em;background-color: #f0f8ff;}#sk-container-id-4 input.sk-toggleable__control:checked~div.sk-toggleable__content {max-height: 200px;max-width: 100%;overflow: auto;}#sk-container-id-4 input.sk-toggleable__control:checked~label.sk-toggleable__label-arrow:before {content: \"▾\";}#sk-container-id-4 div.sk-estimator input.sk-toggleable__control:checked~label.sk-toggleable__label {background-color: #d4ebff;}#sk-container-id-4 div.sk-label input.sk-toggleable__control:checked~label.sk-toggleable__label {background-color: #d4ebff;}#sk-container-id-4 input.sk-hidden--visually {border: 0;clip: rect(1px 1px 1px 1px);clip: rect(1px, 1px, 1px, 1px);height: 1px;margin: -1px;overflow: hidden;padding: 0;position: absolute;width: 1px;}#sk-container-id-4 div.sk-estimator {font-family: monospace;background-color: #f0f8ff;border: 1px dotted black;border-radius: 0.25em;box-sizing: border-box;margin-bottom: 0.5em;}#sk-container-id-4 div.sk-estimator:hover {background-color: #d4ebff;}#sk-container-id-4 div.sk-parallel-item::after {content: \"\";width: 100%;border-bottom: 1px solid gray;flex-grow: 1;}#sk-container-id-4 div.sk-label:hover label.sk-toggleable__label {background-color: #d4ebff;}#sk-container-id-4 div.sk-serial::before {content: \"\";position: absolute;border-left: 1px solid gray;box-sizing: border-box;top: 0;bottom: 0;left: 50%;z-index: 0;}#sk-container-id-4 div.sk-serial {display: flex;flex-direction: column;align-items: center;background-color: white;padding-right: 0.2em;padding-left: 0.2em;position: relative;}#sk-container-id-4 div.sk-item {position: relative;z-index: 1;}#sk-container-id-4 div.sk-parallel {display: flex;align-items: stretch;justify-content: center;background-color: white;position: relative;}#sk-container-id-4 div.sk-item::before, #sk-container-id-4 div.sk-parallel-item::before {content: \"\";position: absolute;border-left: 1px solid gray;box-sizing: border-box;top: 0;bottom: 0;left: 50%;z-index: -1;}#sk-container-id-4 div.sk-parallel-item {display: flex;flex-direction: column;z-index: 1;position: relative;background-color: white;}#sk-container-id-4 div.sk-parallel-item:first-child::after {align-self: flex-end;width: 50%;}#sk-container-id-4 div.sk-parallel-item:last-child::after {align-self: flex-start;width: 50%;}#sk-container-id-4 div.sk-parallel-item:only-child::after {width: 0;}#sk-container-id-4 div.sk-dashed-wrapped {border: 1px dashed gray;margin: 0 0.4em 0.5em 0.4em;box-sizing: border-box;padding-bottom: 0.4em;background-color: white;}#sk-container-id-4 div.sk-label label {font-family: monospace;font-weight: bold;display: inline-block;line-height: 1.2em;}#sk-container-id-4 div.sk-label-container {text-align: center;}#sk-container-id-4 div.sk-container {/* jupyter's `normalize.less` sets `[hidden] { display: none; }` but bootstrap.min.css set `[hidden] { display: none !important; }` so we also need the `!important` here to be able to override the default hidden behavior on the sphinx rendered scikit-learn.org. See: https://github.com/scikit-learn/scikit-learn/issues/21755 */display: inline-block !important;position: relative;}#sk-container-id-4 div.sk-text-repr-fallback {display: none;}</style><div id=\"sk-container-id-4\" class=\"sk-top-container\"><div class=\"sk-text-repr-fallback\"><pre>MultinomialNB()</pre><b>In a Jupyter environment, please rerun this cell to show the HTML representation or trust the notebook. <br />On GitHub, the HTML representation is unable to render, please try loading this page with nbviewer.org.</b></div><div class=\"sk-container\" hidden><div class=\"sk-item\"><div class=\"sk-estimator sk-toggleable\"><input class=\"sk-toggleable__control sk-hidden--visually\" id=\"sk-estimator-id-4\" type=\"checkbox\" checked><label for=\"sk-estimator-id-4\" class=\"sk-toggleable__label sk-toggleable__label-arrow\">MultinomialNB</label><div class=\"sk-toggleable__content\"><pre>MultinomialNB()</pre></div></div></div></div></div>"
      ],
      "text/plain": [
       "MultinomialNB()"
      ]
     },
     "execution_count": 97,
     "metadata": {},
     "output_type": "execute_result"
    }
   ],
   "source": [
    "tfidf_mnb=MultinomialNB()\n",
    "tfidf_mnb.fit(x_tfidf_tr,y_tfidf_tr)"
   ]
  },
  {
   "cell_type": "code",
   "execution_count": 98,
   "id": "4569af0b-3455-4104-8d06-768aff8dd458",
   "metadata": {},
   "outputs": [
    {
     "data": {
      "text/plain": [
       "0.8054735184091356"
      ]
     },
     "execution_count": 98,
     "metadata": {},
     "output_type": "execute_result"
    }
   ],
   "source": [
    "tfidf_mnb.score(x_tfidf_ts,y_tfidf_ts)"
   ]
  },
  {
   "cell_type": "code",
   "execution_count": 100,
   "id": "86594e8e-fd60-44e3-88cb-47537581edc7",
   "metadata": {},
   "outputs": [
    {
     "name": "stdout",
     "output_type": "stream",
     "text": [
      "106/106 [==============================] - 7s 56ms/step - loss: 0.5004 - accuracy: 0.7874\n"
     ]
    },
    {
     "data": {
      "text/plain": [
       "[0.5004132390022278, 0.7873597145080566]"
      ]
     },
     "execution_count": 100,
     "metadata": {},
     "output_type": "execute_result"
    }
   ],
   "source": [
    "lstm.evaluate(X_test,y_test)"
   ]
  },
  {
   "cell_type": "code",
   "execution_count": 113,
   "id": "f317ed98-a8de-4d95-8344-5ee64cbaeab2",
   "metadata": {},
   "outputs": [],
   "source": [
    "text=\"Our office printer has abruptly stopped working. This is severely affecting our operations; urgent assistance is required to resolve the issue promptly. \""
   ]
  },
  {
   "cell_type": "code",
   "execution_count": 102,
   "id": "85eb04b1-2da8-4fcf-ab7c-a8dd9a8db8ac",
   "metadata": {},
   "outputs": [],
   "source": [
    "doc=nlp(text)\n",
    "text=\" \".join([token.lemma_ for token in doc if not token.is_stop])"
   ]
  },
  {
   "cell_type": "code",
   "execution_count": 107,
   "id": "164af393-7cd7-48a6-9868-2c2465d17562",
   "metadata": {},
   "outputs": [],
   "source": [
    "vector=nlp(text).vector.reshape(1,-1,1)"
   ]
  },
  {
   "cell_type": "code",
   "execution_count": 109,
   "id": "962b755c-095c-45fa-b3d6-5b8f4439fa81",
   "metadata": {},
   "outputs": [
    {
     "name": "stdout",
     "output_type": "stream",
     "text": [
      "1/1 [==============================] - 0s 47ms/step\n"
     ]
    }
   ],
   "source": [
    "result =np.argmax(lstm.predict(vector)[0])"
   ]
  },
  {
   "cell_type": "code",
   "execution_count": 110,
   "id": "edb3fc9b-a75c-40c8-b098-d4cbeb9853cc",
   "metadata": {},
   "outputs": [
    {
     "data": {
      "text/plain": [
       "3"
      ]
     },
     "execution_count": 110,
     "metadata": {},
     "output_type": "execute_result"
    }
   ],
   "source": [
    "result"
   ]
  },
  {
   "cell_type": "code",
   "execution_count": 111,
   "id": "50b2497d-a30e-4198-a32e-008542b6d49b",
   "metadata": {},
   "outputs": [],
   "source": [
    "lstm.save(\"support_ticket_model.keras\")"
   ]
  },
  {
   "cell_type": "code",
   "execution_count": 112,
   "id": "bed2bf39-c3e8-495f-a7ee-81c72cc7d7c3",
   "metadata": {},
   "outputs": [],
   "source": [
    "def predict(text):\n",
    "    doc=nlp(text)\n",
    "    text=\" \".join([token.lemma_ for token in doc if not token.is_stop])\n",
    "    vector=nlp(text).vector.reshape(1,-1,1)\n",
    "    result =np.argmax(lstm.predict(vector)[0])\n",
    "    return result"
   ]
  },
  {
   "cell_type": "code",
   "execution_count": 114,
   "id": "e4be7190-a5cd-4122-b09b-7af6f28df217",
   "metadata": {},
   "outputs": [
    {
     "name": "stdout",
     "output_type": "stream",
     "text": [
      "1/1 [==============================] - 0s 46ms/step\n"
     ]
    },
    {
     "data": {
      "text/plain": [
       "3"
      ]
     },
     "execution_count": 114,
     "metadata": {},
     "output_type": "execute_result"
    }
   ],
   "source": [
    "predict(text)"
   ]
  },
  {
   "cell_type": "code",
   "execution_count": 115,
   "id": "c0dc8d57-a772-41e2-969e-346d9affed05",
   "metadata": {},
   "outputs": [
    {
     "name": "stdout",
     "output_type": "stream",
     "text": [
      "1/1 [==============================] - 0s 47ms/step\n"
     ]
    },
    {
     "data": {
      "text/plain": [
       "3"
      ]
     },
     "execution_count": 115,
     "metadata": {},
     "output_type": "execute_result"
    }
   ],
   "source": [
    "predict('Our [specific system/software] has encountered a critical error ([Error Code]), disrupting operations and impeding vital tasks. Internal troubleshooting has failed to resolve the issue. Urgently seeking your immediate assistance. ')"
   ]
  },
  {
   "cell_type": "code",
   "execution_count": 116,
   "id": "adcffa63-7616-4380-80bc-f80e49269442",
   "metadata": {},
   "outputs": [
    {
     "name": "stdout",
     "output_type": "stream",
     "text": [
      "1/1 [==============================] - 0s 46ms/step\n"
     ]
    },
    {
     "data": {
      "text/plain": [
       "3"
      ]
     },
     "execution_count": 116,
     "metadata": {},
     "output_type": "execute_result"
    }
   ],
   "source": [
    "predict('We are experiencing a minor issue with [specific system/software] related to [brief description]. While it does not severely impact operations, we would appreciate your assistance in resolving it at your earliest convenience.')"
   ]
  },
  {
   "cell_type": "code",
   "execution_count": null,
   "id": "927f26d5-9496-4894-b15f-51a43e7f681c",
   "metadata": {},
   "outputs": [],
   "source": []
  }
 ],
 "metadata": {
  "kernelspec": {
   "display_name": "Python 3 (ipykernel)",
   "language": "python",
   "name": "python3"
  },
  "language_info": {
   "codemirror_mode": {
    "name": "ipython",
    "version": 3
   },
   "file_extension": ".py",
   "mimetype": "text/x-python",
   "name": "python",
   "nbconvert_exporter": "python",
   "pygments_lexer": "ipython3",
   "version": "3.11.5"
  }
 },
 "nbformat": 4,
 "nbformat_minor": 5
}
