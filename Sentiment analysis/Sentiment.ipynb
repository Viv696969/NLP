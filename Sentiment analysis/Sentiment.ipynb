{
 "cells": [
  {
   "cell_type": "code",
   "execution_count": 1,
   "id": "f1414897-ac7f-408e-8e43-a26af9ce8399",
   "metadata": {},
   "outputs": [],
   "source": [
    "from pandas import *\n",
    "import numpy as np\n",
    "import matplotlib.pyplot as plt"
   ]
  },
  {
   "cell_type": "code",
   "execution_count": 2,
   "id": "f2db0bb8-97c6-4606-a7e9-8f583abc0cc3",
   "metadata": {},
   "outputs": [],
   "source": [
    "df=read_csv(\"Reviews.csv\")"
   ]
  },
  {
   "cell_type": "code",
   "execution_count": 3,
   "id": "2aa3ac12-5bb0-4531-ab35-e2ac61b5f054",
   "metadata": {},
   "outputs": [
    {
     "data": {
      "text/html": [
       "<div>\n",
       "<style scoped>\n",
       "    .dataframe tbody tr th:only-of-type {\n",
       "        vertical-align: middle;\n",
       "    }\n",
       "\n",
       "    .dataframe tbody tr th {\n",
       "        vertical-align: top;\n",
       "    }\n",
       "\n",
       "    .dataframe thead th {\n",
       "        text-align: right;\n",
       "    }\n",
       "</style>\n",
       "<table border=\"1\" class=\"dataframe\">\n",
       "  <thead>\n",
       "    <tr style=\"text-align: right;\">\n",
       "      <th></th>\n",
       "      <th>Id</th>\n",
       "      <th>ProductId</th>\n",
       "      <th>UserId</th>\n",
       "      <th>ProfileName</th>\n",
       "      <th>HelpfulnessNumerator</th>\n",
       "      <th>HelpfulnessDenominator</th>\n",
       "      <th>Score</th>\n",
       "      <th>Time</th>\n",
       "      <th>Summary</th>\n",
       "      <th>Text</th>\n",
       "    </tr>\n",
       "  </thead>\n",
       "  <tbody>\n",
       "    <tr>\n",
       "      <th>0</th>\n",
       "      <td>1</td>\n",
       "      <td>B001E4KFG0</td>\n",
       "      <td>A3SGXH7AUHU8GW</td>\n",
       "      <td>delmartian</td>\n",
       "      <td>1</td>\n",
       "      <td>1</td>\n",
       "      <td>5</td>\n",
       "      <td>1303862400</td>\n",
       "      <td>Good Quality Dog Food</td>\n",
       "      <td>I have bought several of the Vitality canned d...</td>\n",
       "    </tr>\n",
       "    <tr>\n",
       "      <th>1</th>\n",
       "      <td>2</td>\n",
       "      <td>B00813GRG4</td>\n",
       "      <td>A1D87F6ZCVE5NK</td>\n",
       "      <td>dll pa</td>\n",
       "      <td>0</td>\n",
       "      <td>0</td>\n",
       "      <td>1</td>\n",
       "      <td>1346976000</td>\n",
       "      <td>Not as Advertised</td>\n",
       "      <td>Product arrived labeled as Jumbo Salted Peanut...</td>\n",
       "    </tr>\n",
       "    <tr>\n",
       "      <th>2</th>\n",
       "      <td>3</td>\n",
       "      <td>B000LQOCH0</td>\n",
       "      <td>ABXLMWJIXXAIN</td>\n",
       "      <td>Natalia Corres \"Natalia Corres\"</td>\n",
       "      <td>1</td>\n",
       "      <td>1</td>\n",
       "      <td>4</td>\n",
       "      <td>1219017600</td>\n",
       "      <td>\"Delight\" says it all</td>\n",
       "      <td>This is a confection that has been around a fe...</td>\n",
       "    </tr>\n",
       "    <tr>\n",
       "      <th>3</th>\n",
       "      <td>4</td>\n",
       "      <td>B000UA0QIQ</td>\n",
       "      <td>A395BORC6FGVXV</td>\n",
       "      <td>Karl</td>\n",
       "      <td>3</td>\n",
       "      <td>3</td>\n",
       "      <td>2</td>\n",
       "      <td>1307923200</td>\n",
       "      <td>Cough Medicine</td>\n",
       "      <td>If you are looking for the secret ingredient i...</td>\n",
       "    </tr>\n",
       "    <tr>\n",
       "      <th>4</th>\n",
       "      <td>5</td>\n",
       "      <td>B006K2ZZ7K</td>\n",
       "      <td>A1UQRSCLF8GW1T</td>\n",
       "      <td>Michael D. Bigham \"M. Wassir\"</td>\n",
       "      <td>0</td>\n",
       "      <td>0</td>\n",
       "      <td>5</td>\n",
       "      <td>1350777600</td>\n",
       "      <td>Great taffy</td>\n",
       "      <td>Great taffy at a great price.  There was a wid...</td>\n",
       "    </tr>\n",
       "  </tbody>\n",
       "</table>\n",
       "</div>"
      ],
      "text/plain": [
       "   Id   ProductId          UserId                      ProfileName  \\\n",
       "0   1  B001E4KFG0  A3SGXH7AUHU8GW                       delmartian   \n",
       "1   2  B00813GRG4  A1D87F6ZCVE5NK                           dll pa   \n",
       "2   3  B000LQOCH0   ABXLMWJIXXAIN  Natalia Corres \"Natalia Corres\"   \n",
       "3   4  B000UA0QIQ  A395BORC6FGVXV                             Karl   \n",
       "4   5  B006K2ZZ7K  A1UQRSCLF8GW1T    Michael D. Bigham \"M. Wassir\"   \n",
       "\n",
       "   HelpfulnessNumerator  HelpfulnessDenominator  Score        Time  \\\n",
       "0                     1                       1      5  1303862400   \n",
       "1                     0                       0      1  1346976000   \n",
       "2                     1                       1      4  1219017600   \n",
       "3                     3                       3      2  1307923200   \n",
       "4                     0                       0      5  1350777600   \n",
       "\n",
       "                 Summary                                               Text  \n",
       "0  Good Quality Dog Food  I have bought several of the Vitality canned d...  \n",
       "1      Not as Advertised  Product arrived labeled as Jumbo Salted Peanut...  \n",
       "2  \"Delight\" says it all  This is a confection that has been around a fe...  \n",
       "3         Cough Medicine  If you are looking for the secret ingredient i...  \n",
       "4            Great taffy  Great taffy at a great price.  There was a wid...  "
      ]
     },
     "execution_count": 3,
     "metadata": {},
     "output_type": "execute_result"
    }
   ],
   "source": [
    "df.head()"
   ]
  },
  {
   "cell_type": "markdown",
   "id": "e21a2ca3-50b3-43e6-88cd-c5987e7371d5",
   "metadata": {},
   "source": [
    "EDA"
   ]
  },
  {
   "cell_type": "code",
   "execution_count": 4,
   "id": "9239a9ca-e1b6-4225-9a1f-5e412a342af3",
   "metadata": {},
   "outputs": [
    {
     "name": "stdout",
     "output_type": "stream",
     "text": [
      "<class 'pandas.core.frame.DataFrame'>\n",
      "RangeIndex: 568454 entries, 0 to 568453\n",
      "Data columns (total 10 columns):\n",
      " #   Column                  Non-Null Count   Dtype \n",
      "---  ------                  --------------   ----- \n",
      " 0   Id                      568454 non-null  int64 \n",
      " 1   ProductId               568454 non-null  object\n",
      " 2   UserId                  568454 non-null  object\n",
      " 3   ProfileName             568428 non-null  object\n",
      " 4   HelpfulnessNumerator    568454 non-null  int64 \n",
      " 5   HelpfulnessDenominator  568454 non-null  int64 \n",
      " 6   Score                   568454 non-null  int64 \n",
      " 7   Time                    568454 non-null  int64 \n",
      " 8   Summary                 568427 non-null  object\n",
      " 9   Text                    568454 non-null  object\n",
      "dtypes: int64(5), object(5)\n",
      "memory usage: 43.4+ MB\n"
     ]
    }
   ],
   "source": [
    "df.info()"
   ]
  },
  {
   "cell_type": "code",
   "execution_count": 6,
   "id": "340bb353-4946-4ee4-9912-22db10539faf",
   "metadata": {},
   "outputs": [
    {
     "data": {
      "text/plain": [
       "count    568454.000000\n",
       "mean          4.183199\n",
       "std           1.310436\n",
       "min           1.000000\n",
       "25%           4.000000\n",
       "50%           5.000000\n",
       "75%           5.000000\n",
       "max           5.000000\n",
       "Name: Score, dtype: float64"
      ]
     },
     "execution_count": 6,
     "metadata": {},
     "output_type": "execute_result"
    }
   ],
   "source": [
    "df.Score.describe()"
   ]
  },
  {
   "cell_type": "code",
   "execution_count": 7,
   "id": "0319f89d-8452-4be8-ac28-4a855973ac0c",
   "metadata": {},
   "outputs": [
    {
     "data": {
      "text/html": [
       "<div>\n",
       "<style scoped>\n",
       "    .dataframe tbody tr th:only-of-type {\n",
       "        vertical-align: middle;\n",
       "    }\n",
       "\n",
       "    .dataframe tbody tr th {\n",
       "        vertical-align: top;\n",
       "    }\n",
       "\n",
       "    .dataframe thead th {\n",
       "        text-align: right;\n",
       "    }\n",
       "</style>\n",
       "<table border=\"1\" class=\"dataframe\">\n",
       "  <thead>\n",
       "    <tr style=\"text-align: right;\">\n",
       "      <th></th>\n",
       "      <th>Id</th>\n",
       "      <th>ProductId</th>\n",
       "      <th>UserId</th>\n",
       "      <th>ProfileName</th>\n",
       "      <th>HelpfulnessNumerator</th>\n",
       "      <th>HelpfulnessDenominator</th>\n",
       "      <th>Score</th>\n",
       "      <th>Time</th>\n",
       "      <th>Summary</th>\n",
       "      <th>Text</th>\n",
       "    </tr>\n",
       "  </thead>\n",
       "  <tbody>\n",
       "    <tr>\n",
       "      <th>0</th>\n",
       "      <td>1</td>\n",
       "      <td>B001E4KFG0</td>\n",
       "      <td>A3SGXH7AUHU8GW</td>\n",
       "      <td>delmartian</td>\n",
       "      <td>1</td>\n",
       "      <td>1</td>\n",
       "      <td>5</td>\n",
       "      <td>1303862400</td>\n",
       "      <td>Good Quality Dog Food</td>\n",
       "      <td>I have bought several of the Vitality canned d...</td>\n",
       "    </tr>\n",
       "  </tbody>\n",
       "</table>\n",
       "</div>"
      ],
      "text/plain": [
       "   Id   ProductId          UserId ProfileName  HelpfulnessNumerator  \\\n",
       "0   1  B001E4KFG0  A3SGXH7AUHU8GW  delmartian                     1   \n",
       "\n",
       "   HelpfulnessDenominator  Score        Time                Summary  \\\n",
       "0                       1      5  1303862400  Good Quality Dog Food   \n",
       "\n",
       "                                                Text  \n",
       "0  I have bought several of the Vitality canned d...  "
      ]
     },
     "execution_count": 7,
     "metadata": {},
     "output_type": "execute_result"
    }
   ],
   "source": [
    "df.head(1)"
   ]
  },
  {
   "cell_type": "code",
   "execution_count": 8,
   "id": "75b4b339-454a-4cc1-9acf-a6361e08a358",
   "metadata": {},
   "outputs": [],
   "source": [
    "df.drop(columns=['Id','ProductId','ProfileName','UserId','Time','HelpfulnessNumerator','HelpfulnessDenominator'],inplace=True)"
   ]
  },
  {
   "cell_type": "code",
   "execution_count": 9,
   "id": "028a1e4c-77b6-4da1-b567-85f5250c5dc0",
   "metadata": {},
   "outputs": [
    {
     "data": {
      "text/html": [
       "<div>\n",
       "<style scoped>\n",
       "    .dataframe tbody tr th:only-of-type {\n",
       "        vertical-align: middle;\n",
       "    }\n",
       "\n",
       "    .dataframe tbody tr th {\n",
       "        vertical-align: top;\n",
       "    }\n",
       "\n",
       "    .dataframe thead th {\n",
       "        text-align: right;\n",
       "    }\n",
       "</style>\n",
       "<table border=\"1\" class=\"dataframe\">\n",
       "  <thead>\n",
       "    <tr style=\"text-align: right;\">\n",
       "      <th></th>\n",
       "      <th>Score</th>\n",
       "      <th>Summary</th>\n",
       "      <th>Text</th>\n",
       "    </tr>\n",
       "  </thead>\n",
       "  <tbody>\n",
       "    <tr>\n",
       "      <th>0</th>\n",
       "      <td>5</td>\n",
       "      <td>Good Quality Dog Food</td>\n",
       "      <td>I have bought several of the Vitality canned d...</td>\n",
       "    </tr>\n",
       "    <tr>\n",
       "      <th>1</th>\n",
       "      <td>1</td>\n",
       "      <td>Not as Advertised</td>\n",
       "      <td>Product arrived labeled as Jumbo Salted Peanut...</td>\n",
       "    </tr>\n",
       "    <tr>\n",
       "      <th>2</th>\n",
       "      <td>4</td>\n",
       "      <td>\"Delight\" says it all</td>\n",
       "      <td>This is a confection that has been around a fe...</td>\n",
       "    </tr>\n",
       "    <tr>\n",
       "      <th>3</th>\n",
       "      <td>2</td>\n",
       "      <td>Cough Medicine</td>\n",
       "      <td>If you are looking for the secret ingredient i...</td>\n",
       "    </tr>\n",
       "    <tr>\n",
       "      <th>4</th>\n",
       "      <td>5</td>\n",
       "      <td>Great taffy</td>\n",
       "      <td>Great taffy at a great price.  There was a wid...</td>\n",
       "    </tr>\n",
       "  </tbody>\n",
       "</table>\n",
       "</div>"
      ],
      "text/plain": [
       "   Score                Summary  \\\n",
       "0      5  Good Quality Dog Food   \n",
       "1      1      Not as Advertised   \n",
       "2      4  \"Delight\" says it all   \n",
       "3      2         Cough Medicine   \n",
       "4      5            Great taffy   \n",
       "\n",
       "                                                Text  \n",
       "0  I have bought several of the Vitality canned d...  \n",
       "1  Product arrived labeled as Jumbo Salted Peanut...  \n",
       "2  This is a confection that has been around a fe...  \n",
       "3  If you are looking for the secret ingredient i...  \n",
       "4  Great taffy at a great price.  There was a wid...  "
      ]
     },
     "execution_count": 9,
     "metadata": {},
     "output_type": "execute_result"
    }
   ],
   "source": [
    "df.head()"
   ]
  },
  {
   "cell_type": "code",
   "execution_count": 10,
   "id": "bd5e6d59-3b76-4aab-bfb0-ec1364042539",
   "metadata": {},
   "outputs": [
    {
     "name": "stdout",
     "output_type": "stream",
     "text": [
      "<class 'pandas.core.frame.DataFrame'>\n",
      "RangeIndex: 568454 entries, 0 to 568453\n",
      "Data columns (total 3 columns):\n",
      " #   Column   Non-Null Count   Dtype \n",
      "---  ------   --------------   ----- \n",
      " 0   Score    568454 non-null  int64 \n",
      " 1   Summary  568427 non-null  object\n",
      " 2   Text     568454 non-null  object\n",
      "dtypes: int64(1), object(2)\n",
      "memory usage: 13.0+ MB\n"
     ]
    }
   ],
   "source": [
    "df.info()"
   ]
  },
  {
   "cell_type": "code",
   "execution_count": 20,
   "id": "cfdaf16d-5a19-4170-a62c-881473c5f210",
   "metadata": {},
   "outputs": [],
   "source": [
    "from random import random,randint"
   ]
  },
  {
   "cell_type": "code",
   "execution_count": 60,
   "id": "7f26c39c-f357-4aa1-b307-ba05a86b5235",
   "metadata": {},
   "outputs": [
    {
     "data": {
      "text/plain": [
       "(\"I don't know if it's the cactus or the tequila or just the unique combination of ingredients, but the flavour of this hot sauce makes it one of a kind!  We picked up a bottle once on a trip we were on and brought it back home with us and were totally blown away!  When we realized that we simply couldn't find it anywhere in our city we were bummed.<br /><br />Now, because of the magic of the internet, we have a case of the sauce and are ecstatic because of it.<br /><br />If you love hot sauce..I mean really love hot sauce, but don't want a sauce that tastelessly burns your throat, grab a bottle of Tequila Picante Gourmet de Inclan.  Just realize that once you taste it, you will never want to use any other sauce.<br /><br />Thank you for the personal, incredible service!\",\n",
       " 5,\n",
       " 'The Best Hot Sauce in the World')"
      ]
     },
     "execution_count": 60,
     "metadata": {},
     "output_type": "execute_result"
    }
   ],
   "source": [
    "num=randint(0,50)\n",
    "df.iloc[num].Text,df.Score[num],df.Summary[num]"
   ]
  },
  {
   "cell_type": "code",
   "execution_count": 23,
   "id": "e3f2ce23-6cd5-4156-acfc-e8b5392a61da",
   "metadata": {},
   "outputs": [],
   "source": [
    "from seaborn import *"
   ]
  },
  {
   "cell_type": "code",
   "execution_count": 33,
   "id": "e499872f-9136-4e9e-98f5-318ab26e56e3",
   "metadata": {},
   "outputs": [
    {
     "name": "stderr",
     "output_type": "stream",
     "text": [
      "C:\\Users\\vivek chouhan\\AppData\\Local\\Programs\\Python\\Python311\\Lib\\site-packages\\seaborn\\_oldcore.py:1498: FutureWarning: is_categorical_dtype is deprecated and will be removed in a future version. Use isinstance(dtype, CategoricalDtype) instead\n",
      "  if pd.api.types.is_categorical_dtype(vector):\n",
      "C:\\Users\\vivek chouhan\\AppData\\Local\\Programs\\Python\\Python311\\Lib\\site-packages\\seaborn\\_oldcore.py:1498: FutureWarning: is_categorical_dtype is deprecated and will be removed in a future version. Use isinstance(dtype, CategoricalDtype) instead\n",
      "  if pd.api.types.is_categorical_dtype(vector):\n",
      "C:\\Users\\vivek chouhan\\AppData\\Local\\Programs\\Python\\Python311\\Lib\\site-packages\\seaborn\\_oldcore.py:1498: FutureWarning: is_categorical_dtype is deprecated and will be removed in a future version. Use isinstance(dtype, CategoricalDtype) instead\n",
      "  if pd.api.types.is_categorical_dtype(vector):\n"
     ]
    },
    {
     "data": {
      "text/plain": [
       "<Axes: xlabel='Score', ylabel='count'>"
      ]
     },
     "execution_count": 33,
     "metadata": {},
     "output_type": "execute_result"
    },
    {
     "data": {
      "image/png": "[encoded data removed]",
      "text/plain": [
       "<Figure size 640x480 with 1 Axes>"
      ]
     },
     "metadata": {},
     "output_type": "display_data"
    }
   ],
   "source": [
    "countplot(data=df,x='Score')"
   ]
  },
  {
   "cell_type": "code",
   "execution_count": 34,
   "id": "f990f7e6-d446-44a2-be5b-02d63dbb1d32",
   "metadata": {},
   "outputs": [
    {
     "data": {
      "text/plain": [
       "(568454, 3)"
      ]
     },
     "execution_count": 34,
     "metadata": {},
     "output_type": "execute_result"
    }
   ],
   "source": [
    "df.shape"
   ]
  },
  {
   "cell_type": "code",
   "execution_count": 35,
   "id": "77dad97f-1746-470c-8a9c-0df2dba55e8d",
   "metadata": {},
   "outputs": [
    {
     "data": {
      "text/plain": [
       "Score\n",
       "5    363122\n",
       "4     80655\n",
       "1     52268\n",
       "3     42640\n",
       "2     29769\n",
       "Name: count, dtype: int64"
      ]
     },
     "execution_count": 35,
     "metadata": {},
     "output_type": "execute_result"
    }
   ],
   "source": [
    "df.Score.value_counts()"
   ]
  },
  {
   "cell_type": "code",
   "execution_count": 37,
   "id": "c8937d72-d6b8-4bcf-bf11-66a88d31c197",
   "metadata": {},
   "outputs": [],
   "source": [
    "df_1=df[df.Score==1].sample(30000)\n",
    "df_3=df[df.Score==3].sample(30000)\n",
    "df_5=df[df.Score==5].sample(30000)\n",
    "df_4=df[df.Score==4].sample(30000)\n",
    "df_2=df[df.Score==2]"
   ]
  },
  {
   "cell_type": "code",
   "execution_count": 38,
   "id": "6c678229-ca09-4898-84e6-6ef7058dd157",
   "metadata": {},
   "outputs": [],
   "source": [
    "df_final=concat([df_1,df_2,df_3,df_4,df_5])"
   ]
  },
  {
   "cell_type": "code",
   "execution_count": 39,
   "id": "b591a222-e915-4348-a312-5ecc33785109",
   "metadata": {},
   "outputs": [
    {
     "data": {
      "text/html": [
       "<div>\n",
       "<style scoped>\n",
       "    .dataframe tbody tr th:only-of-type {\n",
       "        vertical-align: middle;\n",
       "    }\n",
       "\n",
       "    .dataframe tbody tr th {\n",
       "        vertical-align: top;\n",
       "    }\n",
       "\n",
       "    .dataframe thead th {\n",
       "        text-align: right;\n",
       "    }\n",
       "</style>\n",
       "<table border=\"1\" class=\"dataframe\">\n",
       "  <thead>\n",
       "    <tr style=\"text-align: right;\">\n",
       "      <th></th>\n",
       "      <th>Score</th>\n",
       "      <th>Summary</th>\n",
       "      <th>Text</th>\n",
       "    </tr>\n",
       "  </thead>\n",
       "  <tbody>\n",
       "    <tr>\n",
       "      <th>164169</th>\n",
       "      <td>1</td>\n",
       "      <td>overpowering lemon grass</td>\n",
       "      <td>This tea sounded great. I lived in the middle ...</td>\n",
       "    </tr>\n",
       "    <tr>\n",
       "      <th>490700</th>\n",
       "      <td>1</td>\n",
       "      <td>DISGUSTING</td>\n",
       "      <td>I got these for my daughters to try..... They ...</td>\n",
       "    </tr>\n",
       "    <tr>\n",
       "      <th>273455</th>\n",
       "      <td>1</td>\n",
       "      <td>Worst Tasting Syrup Ever</td>\n",
       "      <td>This was sugar free Cherry syrup which you can...</td>\n",
       "    </tr>\n",
       "    <tr>\n",
       "      <th>94225</th>\n",
       "      <td>1</td>\n",
       "      <td>Comes out of the can like a brick!</td>\n",
       "      <td>This is nothing like the any organic pumpkin I...</td>\n",
       "    </tr>\n",
       "    <tr>\n",
       "      <th>319643</th>\n",
       "      <td>1</td>\n",
       "      <td>Not remotely worth the calories</td>\n",
       "      <td>I am wheat, gluten, and dairy-free and general...</td>\n",
       "    </tr>\n",
       "    <tr>\n",
       "      <th>...</th>\n",
       "      <td>...</td>\n",
       "      <td>...</td>\n",
       "      <td>...</td>\n",
       "    </tr>\n",
       "    <tr>\n",
       "      <th>183299</th>\n",
       "      <td>5</td>\n",
       "      <td>Very Good for A Store-Bought Pre-packaged Cookie!</td>\n",
       "      <td>These cookies are pretty good for a store-boug...</td>\n",
       "    </tr>\n",
       "    <tr>\n",
       "      <th>497124</th>\n",
       "      <td>5</td>\n",
       "      <td>Tasty coffee replacement</td>\n",
       "      <td>Yeah, mango-peach.  That's as good a descripti...</td>\n",
       "    </tr>\n",
       "    <tr>\n",
       "      <th>207253</th>\n",
       "      <td>5</td>\n",
       "      <td>Smooth Flavor - Great Taste</td>\n",
       "      <td>Stash Premium Coconut Mango Oolong tea offers ...</td>\n",
       "    </tr>\n",
       "    <tr>\n",
       "      <th>82619</th>\n",
       "      <td>5</td>\n",
       "      <td>Quick delivery!!</td>\n",
       "      <td>I used these rocks to make a stone fireplace o...</td>\n",
       "    </tr>\n",
       "    <tr>\n",
       "      <th>208164</th>\n",
       "      <td>5</td>\n",
       "      <td>Great food</td>\n",
       "      <td>This is a highly rated dog food and my three d...</td>\n",
       "    </tr>\n",
       "  </tbody>\n",
       "</table>\n",
       "<p>149769 rows × 3 columns</p>\n",
       "</div>"
      ],
      "text/plain": [
       "        Score                                            Summary  \\\n",
       "164169      1                           overpowering lemon grass   \n",
       "490700      1                                         DISGUSTING   \n",
       "273455      1                           Worst Tasting Syrup Ever   \n",
       "94225       1                 Comes out of the can like a brick!   \n",
       "319643      1                    Not remotely worth the calories   \n",
       "...       ...                                                ...   \n",
       "183299      5  Very Good for A Store-Bought Pre-packaged Cookie!   \n",
       "497124      5                           Tasty coffee replacement   \n",
       "207253      5                        Smooth Flavor - Great Taste   \n",
       "82619       5                                   Quick delivery!!   \n",
       "208164      5                                         Great food   \n",
       "\n",
       "                                                     Text  \n",
       "164169  This tea sounded great. I lived in the middle ...  \n",
       "490700  I got these for my daughters to try..... They ...  \n",
       "273455  This was sugar free Cherry syrup which you can...  \n",
       "94225   This is nothing like the any organic pumpkin I...  \n",
       "319643  I am wheat, gluten, and dairy-free and general...  \n",
       "...                                                   ...  \n",
       "183299  These cookies are pretty good for a store-boug...  \n",
       "497124  Yeah, mango-peach.  That's as good a descripti...  \n",
       "207253  Stash Premium Coconut Mango Oolong tea offers ...  \n",
       "82619   I used these rocks to make a stone fireplace o...  \n",
       "208164  This is a highly rated dog food and my three d...  \n",
       "\n",
       "[149769 rows x 3 columns]"
      ]
     },
     "execution_count": 39,
     "metadata": {},
     "output_type": "execute_result"
    }
   ],
   "source": [
    "df_final"
   ]
  },
  {
   "cell_type": "code",
   "execution_count": 41,
   "id": "8dfcad42-9343-43a7-aaf3-2f69f385d972",
   "metadata": {},
   "outputs": [],
   "source": [
    "df_final.drop('Summary',axis=1,inplace=True)"
   ]
  },
  {
   "cell_type": "code",
   "execution_count": 42,
   "id": "b3fecedb-624b-42c2-9d45-83124d96a473",
   "metadata": {},
   "outputs": [
    {
     "name": "stderr",
     "output_type": "stream",
     "text": [
      "C:\\Users\\vivek chouhan\\AppData\\Local\\Programs\\Python\\Python311\\Lib\\site-packages\\seaborn\\_oldcore.py:1498: FutureWarning: is_categorical_dtype is deprecated and will be removed in a future version. Use isinstance(dtype, CategoricalDtype) instead\n",
      "  if pd.api.types.is_categorical_dtype(vector):\n",
      "C:\\Users\\vivek chouhan\\AppData\\Local\\Programs\\Python\\Python311\\Lib\\site-packages\\seaborn\\_oldcore.py:1498: FutureWarning: is_categorical_dtype is deprecated and will be removed in a future version. Use isinstance(dtype, CategoricalDtype) instead\n",
      "  if pd.api.types.is_categorical_dtype(vector):\n",
      "C:\\Users\\vivek chouhan\\AppData\\Local\\Programs\\Python\\Python311\\Lib\\site-packages\\seaborn\\_oldcore.py:1498: FutureWarning: is_categorical_dtype is deprecated and will be removed in a future version. Use isinstance(dtype, CategoricalDtype) instead\n",
      "  if pd.api.types.is_categorical_dtype(vector):\n"
     ]
    },
    {
     "data": {
      "text/plain": [
       "<Axes: xlabel='Score', ylabel='count'>"
      ]
     },
     "execution_count": 42,
     "metadata": {},
     "output_type": "execute_result"
    },
    {
     "data": {
      "image/png": "[encoded data removed]",
      "text/plain": [
       "<Figure size 640x480 with 1 Axes>"
      ]
     },
     "metadata": {},
     "output_type": "display_data"
    }
   ],
   "source": [
    "countplot(data=df_final,x='Score')"
   ]
  },
  {
   "cell_type": "markdown",
   "id": "ba9c546a-23fa-4c1d-a821-c6b8b17ede55",
   "metadata": {},
   "source": [
    "Now we have a balanced data set"
   ]
  },
  {
   "cell_type": "code",
   "execution_count": 43,
   "id": "20bc4ca9-f7d5-4b2d-9c65-23727957f8d1",
   "metadata": {},
   "outputs": [],
   "source": [
    "%matplotlib inline"
   ]
  },
  {
   "cell_type": "markdown",
   "id": "7576eb32-98c8-4a99-9d35-8d4c020d77b1",
   "metadata": {},
   "source": [
    "Text Cleaning"
   ]
  },
  {
   "cell_type": "code",
   "execution_count": 61,
   "id": "e5eb4b45-e368-4c58-b403-a1b6a8307766",
   "metadata": {},
   "outputs": [],
   "source": [
    "import re"
   ]
  },
  {
   "cell_type": "code",
   "execution_count": 77,
   "id": "ccdcaf25-59f0-4931-bddb-2c883a760ca7",
   "metadata": {},
   "outputs": [],
   "source": [
    "text='''\n",
    "I don't know if it's the cactus or the tequila or just the unique combination of ingredients, \n",
    "but the flavour of this hot sauce makes it one of a kind!  We picked up a bottle \n",
    "once on a trip we were on and brought it back home with us and were totally blown away! \n",
    "When we realized that we simply couldn't find it anywhere in our city we were bummed.<br /><br />Now,\n",
    "because of the magic of the internet, we have a case of the sauce and are ecstatic because of it.<br /><br />\n",
    "If you love hot sauce..I mean really love hot sauce, but don't want a sauce that tastelessly burns your throat, \n",
    "grab a bottle of Tequila Picante Gourmet de Inclan.  Just realize that once you taste it, you will never want to use any other sauce.\n",
    "<br /><br />Thank you for the personal, incredible service!\n",
    ",@#%^&()-+=\n",
    "('Product received is as advertised.<br /><br /><a href=\"http://www.amazon.com/gp/product/B001GVISJM\">Twizzlers, Strawberry, 16-Ounce Bags (Pack of 6)</a>\n",
    "'''"
   ]
  },
  {
   "cell_type": "code",
   "execution_count": 78,
   "id": "36d27908-1d61-4f1e-96bc-0f272cfff3d7",
   "metadata": {},
   "outputs": [
    {
     "data": {
      "text/plain": [
       "'I dont know if its the cactus or the tequila or just the unique combination of ingredients but the flavour of this hot sauce makes it one of a kind!  We picked up a bottle once on a trip we were on and brought it back home with us and were totally blown away! When we realized that we simply couldnt find it anywhere in our city we were bummed.Nowbecause of the magic of the internet we have a case of the sauce and are ecstatic because of it.If you love hot sauce..I mean really love hot sauce but dont want a sauce that tastelessly burns your throat grab a bottle of Tequila Picante Gourmet de Inclan.  Just realize that once you taste it you will never want to use any other sauce.Thank you for the personal incredible service!Product received is as advertised.'"
      ]
     },
     "execution_count": 78,
     "metadata": {},
     "output_type": "execute_result"
    }
   ],
   "source": [
    "re.sub(\"<br \\/>|<a.+\\/a>|[\\('\\\"\\)]|\\n|[,@#%\\^&\\+=-]\",\"\",text)"
   ]
  },
  {
   "cell_type": "code",
   "execution_count": 72,
   "id": "72c91eed-d1fd-4cd9-b697-985defa9622e",
   "metadata": {},
   "outputs": [
    {
     "data": {
      "text/plain": [
       "' grab a bottle of Tequila Picante Gourmet de Inclan. Just realize that once you taste it, you will ne'"
      ]
     },
     "execution_count": 72,
     "metadata": {},
     "output_type": "execute_result"
    }
   ],
   "source": [
    "re.sub(\"  +\",\" \",'      grab a bottle of Tequila Picante Gourmet de Inclan.  Just realize that once you   taste it, you will ne')"
   ]
  },
  {
   "cell_type": "code",
   "execution_count": 73,
   "id": "8a2cf4f5-2b8e-4ac4-ba3c-6eab2d0ffe2f",
   "metadata": {},
   "outputs": [
    {
     "data": {
      "text/plain": [
       "' of it.If you love hot sauce.I mean really love h'"
      ]
     },
     "execution_count": 73,
     "metadata": {},
     "output_type": "execute_result"
    }
   ],
   "source": [
    "re.sub(\"\\.\\.+\",\".\",' of it.If you love hot sauce..I mean really love h')"
   ]
  },
  {
   "cell_type": "code",
   "execution_count": 90,
   "id": "7932c423-515f-4a99-8f4b-d0e5b0b3d1dc",
   "metadata": {},
   "outputs": [],
   "source": [
    "def clean_text(text):\n",
    "    text=re.sub(\"<br \\/>|<a.+\\/a>|[\\('\\\"\\)]|\\n|[,@#%\\^&\\+=-]\",\"\",text)\n",
    "    text=re.sub(\"  +\",\" \",text)\n",
    "    text=re.sub(\"!!+\",\"!\",text)\n",
    "    return re.sub(\"\\.\\.+\",\".\",text).lower()"
   ]
  },
  {
   "cell_type": "code",
   "execution_count": 91,
   "id": "7e28cfcd-7e35-4d62-8424-390a4eedc992",
   "metadata": {},
   "outputs": [],
   "source": [
    "df_final['cleaned']=df_final.Text.apply(clean_text)"
   ]
  },
  {
   "cell_type": "code",
   "execution_count": 92,
   "id": "f8c17ee7-5d8c-45b6-9f0d-68a771a20ca7",
   "metadata": {},
   "outputs": [
    {
     "data": {
      "text/html": [
       "<div>\n",
       "<style scoped>\n",
       "    .dataframe tbody tr th:only-of-type {\n",
       "        vertical-align: middle;\n",
       "    }\n",
       "\n",
       "    .dataframe tbody tr th {\n",
       "        vertical-align: top;\n",
       "    }\n",
       "\n",
       "    .dataframe thead th {\n",
       "        text-align: right;\n",
       "    }\n",
       "</style>\n",
       "<table border=\"1\" class=\"dataframe\">\n",
       "  <thead>\n",
       "    <tr style=\"text-align: right;\">\n",
       "      <th></th>\n",
       "      <th>Score</th>\n",
       "      <th>Text</th>\n",
       "      <th>cleaned</th>\n",
       "    </tr>\n",
       "  </thead>\n",
       "  <tbody>\n",
       "    <tr>\n",
       "      <th>164169</th>\n",
       "      <td>1</td>\n",
       "      <td>This tea sounded great. I lived in the middle ...</td>\n",
       "      <td>this tea sounded great. i lived in the middle ...</td>\n",
       "    </tr>\n",
       "    <tr>\n",
       "      <th>490700</th>\n",
       "      <td>1</td>\n",
       "      <td>I got these for my daughters to try..... They ...</td>\n",
       "      <td>i got these for my daughters to try. they ate ...</td>\n",
       "    </tr>\n",
       "    <tr>\n",
       "      <th>273455</th>\n",
       "      <td>1</td>\n",
       "      <td>This was sugar free Cherry syrup which you can...</td>\n",
       "      <td>this was sugar free cherry syrup which you can...</td>\n",
       "    </tr>\n",
       "  </tbody>\n",
       "</table>\n",
       "</div>"
      ],
      "text/plain": [
       "        Score                                               Text  \\\n",
       "164169      1  This tea sounded great. I lived in the middle ...   \n",
       "490700      1  I got these for my daughters to try..... They ...   \n",
       "273455      1  This was sugar free Cherry syrup which you can...   \n",
       "\n",
       "                                                  cleaned  \n",
       "164169  this tea sounded great. i lived in the middle ...  \n",
       "490700  i got these for my daughters to try. they ate ...  \n",
       "273455  this was sugar free cherry syrup which you can...  "
      ]
     },
     "execution_count": 92,
     "metadata": {},
     "output_type": "execute_result"
    }
   ],
   "source": [
    "df_final.head(3)"
   ]
  },
  {
   "cell_type": "code",
   "execution_count": 93,
   "id": "faa403d4-5982-4258-a983-799ec54b96d5",
   "metadata": {},
   "outputs": [
    {
     "data": {
      "text/plain": [
       "(\"I got these for my daughters to try..... They ate a piece of them and, literally, spit them out at me. So, my husband and I tried a piece and it was the most awful taste and texture I have ever had.... no wonder my kids spit it at me!  Don't waste your money, there are lots of better dried fruit options out there!!!\",\n",
       " 'i got these for my daughters to try. they ate a piece of them and literally spit them out at me. so my husband and i tried a piece and it was the most awful taste and texture i have ever had. no wonder my kids spit it at me! dont waste your money there are lots of better dried fruit options out there!')"
      ]
     },
     "execution_count": 93,
     "metadata": {},
     "output_type": "execute_result"
    }
   ],
   "source": [
    "df_final.Text[490700],df_final.cleaned[490700]"
   ]
  },
  {
   "cell_type": "code",
   "execution_count": 94,
   "id": "bd358033-c3d5-44c5-af89-ab4bb290558b",
   "metadata": {},
   "outputs": [
    {
     "data": {
      "text/plain": [
       "(317, 302)"
      ]
     },
     "execution_count": 94,
     "metadata": {},
     "output_type": "execute_result"
    }
   ],
   "source": [
    "len(df_final.Text[490700]),len(df_final.cleaned[490700])"
   ]
  },
  {
   "cell_type": "code",
   "execution_count": 95,
   "id": "39df5df1-6b87-418a-b1fa-125702798294",
   "metadata": {},
   "outputs": [],
   "source": [
    "# preprocessing is the next step"
   ]
  },
  {
   "cell_type": "code",
   "execution_count": 96,
   "id": "3a8d9bd4-6342-487e-8a81-7ee66a9f8036",
   "metadata": {},
   "outputs": [],
   "source": [
    "# in this we represent text as vectors such that they are easily identified/recognised/captured by the ml model"
   ]
  },
  {
   "cell_type": "markdown",
   "id": "f9ae780f-0cba-487b-b73a-fab824b44c0e",
   "metadata": {},
   "source": [
    "1 ==> Fast Text"
   ]
  },
  {
   "cell_type": "code",
   "execution_count": 97,
   "id": "b3fac862-b5e0-4066-8fef-5c565f8e0051",
   "metadata": {},
   "outputs": [],
   "source": [
    "df_fasttext=DataFrame()"
   ]
  },
  {
   "cell_type": "code",
   "execution_count": 99,
   "id": "ef46cc3a-d607-4719-a118-4706fa332491",
   "metadata": {},
   "outputs": [],
   "source": [
    "df_fasttext['data']=  \"__label__\"+df_final.Score.astype(str)+\" \"+df_final.cleaned"
   ]
  },
  {
   "cell_type": "code",
   "execution_count": 100,
   "id": "2b345418-b545-4448-9971-cd3be866ab96",
   "metadata": {},
   "outputs": [
    {
     "data": {
      "text/html": [
       "<div>\n",
       "<style scoped>\n",
       "    .dataframe tbody tr th:only-of-type {\n",
       "        vertical-align: middle;\n",
       "    }\n",
       "\n",
       "    .dataframe tbody tr th {\n",
       "        vertical-align: top;\n",
       "    }\n",
       "\n",
       "    .dataframe thead th {\n",
       "        text-align: right;\n",
       "    }\n",
       "</style>\n",
       "<table border=\"1\" class=\"dataframe\">\n",
       "  <thead>\n",
       "    <tr style=\"text-align: right;\">\n",
       "      <th></th>\n",
       "      <th>data</th>\n",
       "    </tr>\n",
       "  </thead>\n",
       "  <tbody>\n",
       "    <tr>\n",
       "      <th>164169</th>\n",
       "      <td>__label__1 this tea sounded great. i lived in ...</td>\n",
       "    </tr>\n",
       "    <tr>\n",
       "      <th>490700</th>\n",
       "      <td>__label__1 i got these for my daughters to try...</td>\n",
       "    </tr>\n",
       "    <tr>\n",
       "      <th>273455</th>\n",
       "      <td>__label__1 this was sugar free cherry syrup wh...</td>\n",
       "    </tr>\n",
       "    <tr>\n",
       "      <th>94225</th>\n",
       "      <td>__label__1 this is nothing like the any organi...</td>\n",
       "    </tr>\n",
       "    <tr>\n",
       "      <th>319643</th>\n",
       "      <td>__label__1 i am wheat gluten and dairyfree and...</td>\n",
       "    </tr>\n",
       "    <tr>\n",
       "      <th>...</th>\n",
       "      <td>...</td>\n",
       "    </tr>\n",
       "    <tr>\n",
       "      <th>183299</th>\n",
       "      <td>__label__5 these cookies are pretty good for a...</td>\n",
       "    </tr>\n",
       "    <tr>\n",
       "      <th>497124</th>\n",
       "      <td>__label__5 yeah mangopeach. thats as good a de...</td>\n",
       "    </tr>\n",
       "    <tr>\n",
       "      <th>207253</th>\n",
       "      <td>__label__5 stash premium coconut mango oolong ...</td>\n",
       "    </tr>\n",
       "    <tr>\n",
       "      <th>82619</th>\n",
       "      <td>__label__5 i used these rocks to make a stone ...</td>\n",
       "    </tr>\n",
       "    <tr>\n",
       "      <th>208164</th>\n",
       "      <td>__label__5 this is a highly rated dog food and...</td>\n",
       "    </tr>\n",
       "  </tbody>\n",
       "</table>\n",
       "<p>149769 rows × 1 columns</p>\n",
       "</div>"
      ],
      "text/plain": [
       "                                                     data\n",
       "164169  __label__1 this tea sounded great. i lived in ...\n",
       "490700  __label__1 i got these for my daughters to try...\n",
       "273455  __label__1 this was sugar free cherry syrup wh...\n",
       "94225   __label__1 this is nothing like the any organi...\n",
       "319643  __label__1 i am wheat gluten and dairyfree and...\n",
       "...                                                   ...\n",
       "183299  __label__5 these cookies are pretty good for a...\n",
       "497124  __label__5 yeah mangopeach. thats as good a de...\n",
       "207253  __label__5 stash premium coconut mango oolong ...\n",
       "82619   __label__5 i used these rocks to make a stone ...\n",
       "208164  __label__5 this is a highly rated dog food and...\n",
       "\n",
       "[149769 rows x 1 columns]"
      ]
     },
     "execution_count": 100,
     "metadata": {},
     "output_type": "execute_result"
    }
   ],
   "source": [
    "df_fasttext"
   ]
  },
  {
   "cell_type": "code",
   "execution_count": 101,
   "id": "9f98d910-0a2f-44b9-b3a1-2a786fd58d4e",
   "metadata": {},
   "outputs": [],
   "source": [
    "from sklearn.model_selection import train_test_split"
   ]
  },
  {
   "cell_type": "code",
   "execution_count": 102,
   "id": "7b768d04-ae8e-432e-9201-30993f1689de",
   "metadata": {},
   "outputs": [],
   "source": [
    "import fasttext"
   ]
  },
  {
   "cell_type": "code",
   "execution_count": 105,
   "id": "b14aa0f1-580f-4192-9cb1-2c7276fd4b46",
   "metadata": {},
   "outputs": [],
   "source": [
    "df_train,df_test=train_test_split(df_fasttext,test_size=0.1)"
   ]
  },
  {
   "cell_type": "code",
   "execution_count": 106,
   "id": "f56b522a-11d4-4bf4-9a42-4ce3f2edb97e",
   "metadata": {},
   "outputs": [],
   "source": [
    "df_train.to_csv(\"fttrain.train\",header=None,index=None,columns=['data'])"
   ]
  },
  {
   "cell_type": "code",
   "execution_count": 107,
   "id": "30264a53-37a7-42c4-9d69-54ecd04b577e",
   "metadata": {},
   "outputs": [],
   "source": [
    "df_test.to_csv(\"ftttest.test\",header=None,index=None,columns=['data'])"
   ]
  },
  {
   "cell_type": "code",
   "execution_count": 111,
   "id": "775f57d8-8083-4d50-b09c-d3148eadce27",
   "metadata": {},
   "outputs": [],
   "source": [
    "model=fasttext.train_supervised(input=\"fttrain.train\",epoch=10)"
   ]
  },
  {
   "cell_type": "code",
   "execution_count": 112,
   "id": "a29337e5-1f96-42f9-a6de-4b9d4f583d8b",
   "metadata": {},
   "outputs": [
    {
     "data": {
      "text/plain": [
       "(14977, 0.5915069773652935, 0.5915069773652935)"
      ]
     },
     "execution_count": 112,
     "metadata": {},
     "output_type": "execute_result"
    }
   ],
   "source": [
    "model.test(\"ftttest.test\")"
   ]
  },
  {
   "cell_type": "code",
   "execution_count": 113,
   "id": "fa7218c5-fb97-4df3-8476-f7a874f9e5ab",
   "metadata": {},
   "outputs": [],
   "source": [
    "del(df_fasttext)\n",
    "del(df_train)\n",
    "del(df_test)"
   ]
  },
  {
   "cell_type": "code",
   "execution_count": null,
   "id": "aa72d712-d54a-418b-9125-54f4e0fb28d9",
   "metadata": {},
   "outputs": [],
   "source": []
  },
  {
   "cell_type": "code",
   "execution_count": 114,
   "id": "90631010-a1a2-4e89-99d4-cd5f6b951ab0",
   "metadata": {},
   "outputs": [],
   "source": [
    "from sentence_transformers import SentenceTransformer"
   ]
  },
  {
   "cell_type": "code",
   "execution_count": 115,
   "id": "95b4a20f-d9df-491f-bc6c-8c633313836c",
   "metadata": {},
   "outputs": [
    {
     "data": {
      "application/vnd.jupyter.widget-view+json": {
       "model_id": "de500e92413c40679bc295cb88d89bcc",
       "version_major": 2,
       "version_minor": 0
      },
      "text/plain": [
       ".gitattributes:   0%|          | 0.00/1.18k [00:00<?, ?B/s]"
      ]
     },
     "metadata": {},
     "output_type": "display_data"
    },
    {
     "data": {
      "application/vnd.jupyter.widget-view+json": {
       "model_id": "4bf81299e1fd45f994beab9f2ad2db25",
       "version_major": 2,
       "version_minor": 0
      },
      "text/plain": [
       "1_Pooling/config.json:   0%|          | 0.00/190 [00:00<?, ?B/s]"
      ]
     },
     "metadata": {},
     "output_type": "display_data"
    },
    {
     "data": {
      "application/vnd.jupyter.widget-view+json": {
       "model_id": "86954da2ab2b4d66bd1321f35d7599e0",
       "version_major": 2,
       "version_minor": 0
      },
      "text/plain": [
       "README.md:   0%|          | 0.00/10.6k [00:00<?, ?B/s]"
      ]
     },
     "metadata": {},
     "output_type": "display_data"
    },
    {
     "data": {
      "application/vnd.jupyter.widget-view+json": {
       "model_id": "3079199d30f74500b011bb2bdf79d1c2",
       "version_major": 2,
       "version_minor": 0
      },
      "text/plain": [
       "config.json:   0%|          | 0.00/612 [00:00<?, ?B/s]"
      ]
     },
     "metadata": {},
     "output_type": "display_data"
    },
    {
     "data": {
      "application/vnd.jupyter.widget-view+json": {
       "model_id": "00c5266b11c24e70aa3c8d9c419e7376",
       "version_major": 2,
       "version_minor": 0
      },
      "text/plain": [
       "config_sentence_transformers.json:   0%|          | 0.00/116 [00:00<?, ?B/s]"
      ]
     },
     "metadata": {},
     "output_type": "display_data"
    },
    {
     "data": {
      "application/vnd.jupyter.widget-view+json": {
       "model_id": "876a029a751d440d978bd4962f01639c",
       "version_major": 2,
       "version_minor": 0
      },
      "text/plain": [
       "data_config.json:   0%|          | 0.00/39.3k [00:00<?, ?B/s]"
      ]
     },
     "metadata": {},
     "output_type": "display_data"
    },
    {
     "data": {
      "application/vnd.jupyter.widget-view+json": {
       "model_id": "a07530b90a534bcc9f5e13a2f4d69472",
       "version_major": 2,
       "version_minor": 0
      },
      "text/plain": [
       "pytorch_model.bin:   0%|          | 0.00/90.9M [00:00<?, ?B/s]"
      ]
     },
     "metadata": {},
     "output_type": "display_data"
    },
    {
     "data": {
      "application/vnd.jupyter.widget-view+json": {
       "model_id": "3a8548aee675434cae36938401f3e0a9",
       "version_major": 2,
       "version_minor": 0
      },
      "text/plain": [
       "sentence_bert_config.json:   0%|          | 0.00/53.0 [00:00<?, ?B/s]"
      ]
     },
     "metadata": {},
     "output_type": "display_data"
    },
    {
     "data": {
      "application/vnd.jupyter.widget-view+json": {
       "model_id": "67bfbb7088b64d028a7d7cd579df2f82",
       "version_major": 2,
       "version_minor": 0
      },
      "text/plain": [
       "special_tokens_map.json:   0%|          | 0.00/112 [00:00<?, ?B/s]"
      ]
     },
     "metadata": {},
     "output_type": "display_data"
    },
    {
     "data": {
      "application/vnd.jupyter.widget-view+json": {
       "model_id": "6c1e6ab5446940c693b3d0cb6d7e919a",
       "version_major": 2,
       "version_minor": 0
      },
      "text/plain": [
       "tokenizer.json:   0%|          | 0.00/466k [00:00<?, ?B/s]"
      ]
     },
     "metadata": {},
     "output_type": "display_data"
    },
    {
     "data": {
      "application/vnd.jupyter.widget-view+json": {
       "model_id": "e973c0cd329c409f92c69bc56c666190",
       "version_major": 2,
       "version_minor": 0
      },
      "text/plain": [
       "tokenizer_config.json:   0%|          | 0.00/350 [00:00<?, ?B/s]"
      ]
     },
     "metadata": {},
     "output_type": "display_data"
    },
    {
     "data": {
      "application/vnd.jupyter.widget-view+json": {
       "model_id": "f769e162d9db41fba015fbc33ecfe302",
       "version_major": 2,
       "version_minor": 0
      },
      "text/plain": [
       "train_script.py:   0%|          | 0.00/13.2k [00:00<?, ?B/s]"
      ]
     },
     "metadata": {},
     "output_type": "display_data"
    },
    {
     "data": {
      "application/vnd.jupyter.widget-view+json": {
       "model_id": "83b36787beea4e80a85c5c148f396def",
       "version_major": 2,
       "version_minor": 0
      },
      "text/plain": [
       "vocab.txt:   0%|          | 0.00/232k [00:00<?, ?B/s]"
      ]
     },
     "metadata": {},
     "output_type": "display_data"
    },
    {
     "data": {
      "application/vnd.jupyter.widget-view+json": {
       "model_id": "887444df9f064e5083ed569f39f69f10",
       "version_major": 2,
       "version_minor": 0
      },
      "text/plain": [
       "modules.json:   0%|          | 0.00/349 [00:00<?, ?B/s]"
      ]
     },
     "metadata": {},
     "output_type": "display_data"
    }
   ],
   "source": [
    "encoder=SentenceTransformer('sentence-transformers/all-MiniLM-L6-v2')"
   ]
  },
  {
   "cell_type": "code",
   "execution_count": 118,
   "id": "63ee29a7-ce1c-4922-bb2b-4bcb5ac8e5ef",
   "metadata": {},
   "outputs": [],
   "source": [
    "from sklearn.metrics.pairwise import cosine_similarity"
   ]
  },
  {
   "cell_type": "code",
   "execution_count": 122,
   "id": "43241dad-6ac5-41cf-9b66-937c180e0aa5",
   "metadata": {},
   "outputs": [],
   "source": [
    "from sklearn.decomposition import PCA"
   ]
  },
  {
   "cell_type": "code",
   "execution_count": null,
   "id": "10d2f497-4b16-4c1d-aaf2-32d53efa1566",
   "metadata": {},
   "outputs": [],
   "source": [
    "def preprocess(text):\n",
    "    "
   ]
  },
  {
   "cell_type": "code",
   "execution_count": 133,
   "id": "aa5c44fa-90e5-444c-90e0-0e47eaf91bb1",
   "metadata": {},
   "outputs": [],
   "source": [
    "vec1=encoder.encode(df_final.cleaned.values[:5])"
   ]
  },
  {
   "cell_type": "code",
   "execution_count": 141,
   "id": "4994f24f-3bf6-4641-ac2a-6db1231d0f4a",
   "metadata": {},
   "outputs": [
    {
     "data": {
      "text/plain": [
       "array([[0.29087085, 1.        , 0.3986855 , 0.3503152 , 0.3206357 ]],\n",
       "      dtype=float32)"
      ]
     },
     "execution_count": 141,
     "metadata": {},
     "output_type": "execute_result"
    }
   ],
   "source": [
    "cosine_similarity([vec1[1]],vec1)"
   ]
  },
  {
   "cell_type": "code",
   "execution_count": 142,
   "id": "cecc7e0d-ee17-4958-aa50-e277533a8dcc",
   "metadata": {},
   "outputs": [
    {
     "data": {
      "text/plain": [
       "(5, 384)"
      ]
     },
     "execution_count": 142,
     "metadata": {},
     "output_type": "execute_result"
    }
   ],
   "source": [
    "vec1.shape"
   ]
  },
  {
   "cell_type": "code",
   "execution_count": 145,
   "id": "fea78b42-903d-44a9-af77-753006ac481c",
   "metadata": {},
   "outputs": [
    {
     "name": "stderr",
     "output_type": "stream",
     "text": [
      "C:\\Users\\vivek chouhan\\AppData\\Local\\Temp\\ipykernel_12220\\3431647053.py:1: UserWarning: \n",
      "\n",
      "`distplot` is a deprecated function and will be removed in seaborn v0.14.0.\n",
      "\n",
      "Please adapt your code to use either `displot` (a figure-level function with\n",
      "similar flexibility) or `histplot` (an axes-level function for histograms).\n",
      "\n",
      "For a guide to updating your code to use the new functions, please see\n",
      "https://gist.github.com/mwaskom/de44147ed2974457ad6372750bbe5751\n",
      "\n",
      "  distplot(vec1[0],kde=True)\n",
      "C:\\Users\\vivek chouhan\\AppData\\Local\\Programs\\Python\\Python311\\Lib\\site-packages\\seaborn\\_oldcore.py:1498: FutureWarning: is_categorical_dtype is deprecated and will be removed in a future version. Use isinstance(dtype, CategoricalDtype) instead\n",
      "  if pd.api.types.is_categorical_dtype(vector):\n",
      "C:\\Users\\vivek chouhan\\AppData\\Local\\Programs\\Python\\Python311\\Lib\\site-packages\\seaborn\\_oldcore.py:1119: FutureWarning: use_inf_as_na option is deprecated and will be removed in a future version. Convert inf values to NaN before operating instead.\n",
      "  with pd.option_context('mode.use_inf_as_na', True):\n"
     ]
    },
    {
     "data": {
      "text/plain": [
       "<Axes: ylabel='Density'>"
      ]
     },
     "execution_count": 145,
     "metadata": {},
     "output_type": "execute_result"
    },
    {
     "data": {
      "image/png": "[encoded data removed]",
      "text/plain": [
       "<Figure size 640x480 with 1 Axes>"
      ]
     },
     "metadata": {},
     "output_type": "display_data"
    }
   ],
   "source": [
    "distplot(vec1[0],kde=True)"
   ]
  },
  {
   "cell_type": "code",
   "execution_count": 158,
   "id": "c1321af8-4d29-4eef-8260-0c5928a1d415",
   "metadata": {},
   "outputs": [],
   "source": [
    "sentences=[\n",
    "'''\n",
    "Title: Chandrayaan-3: India's Next Leap into Lunar Exploration\n",
    "\n",
    "Introduction:\n",
    "In the realm of space exploration, India continues to make impressive strides with its ambitious space program. Following the success of Chandrayaan-2, the Indian Space Research Organisation (ISRO) is gearing up for its next lunar mission – Chandrayaan-3. Building upon the achievements and lessons learned from its predecessors, Chandrayaan-3 promises to be another significant milestone in India's pursuit of unraveling the mysteries of the Moon.\n",
    "\n",
    "Background:\n",
    "Chandrayaan-3 is the third mission in the Chandrayaan series, which began with the launch of Chandrayaan-1 in 2008. The primary objective of these missions is to explore the Moon and enhance our understanding of its geological and topographical features. Chandrayaan-2, launched in 2019, was a groundbreaking mission that included an orbiter, lander, and rover, showcasing India's technological prowess.\n",
    "\n",
    "Key Features and Goals:\n",
    "Chandrayaan-3 is expected to focus on achieving a successful lunar landing, learning from the challenges faced during Chandrayaan-2's Vikram lander descent. The mission is likely to consist of an orbiter and a lander, omitting the rover component to streamline the mission and increase the probability of a successful touchdown.\n",
    "\n",
    "The lunar south pole region is of particular interest due to its unique characteristics, including permanently shadowed craters that might contain water ice. Exploring this area could hold clues to the Moon's geological history and offer insights into the possibilities of utilizing lunar resources for future space exploration endeavors.\n",
    "\n",
    "Collaborative Efforts:\n",
    "ISRO has a history of collaborating with international space agencies and organizations, and Chandrayaan-3 is no exception. The mission is expected to leverage global expertise and resources to enhance its chances of success. Collaborations can range from sharing scientific instruments to seeking advice on mission planning and execution.\n",
    "\n",
    "Technological Advancements:\n",
    "Chandrayaan-3 is likely to incorporate advancements in technology and engineering, capitalizing on the lessons learned from previous missions. Improved navigation systems, enhanced communication capabilities, and upgraded scientific instruments are anticipated to be part of the mission's technological arsenal.\n",
    "\n",
    "Timeline and Launch:\n",
    "While the exact launch date is yet to be announced, reports suggest that Chandrayaan-3 is in the advanced stages of planning. ISRO aims to build upon its past achievements and overcome challenges to establish India as a prominent player in lunar exploration.\n",
    "\n",
    "Conclusion:\n",
    "Chandrayaan-3 represents another exciting chapter in India's space exploration journey. As the nation continues to push the boundaries of scientific discovery and technological innovation, the success of this mission will not only contribute to our understanding of the Moon but also pave the way for future ambitious endeavors in space exploration. As the global space community eagerly awaits the launch, Chandrayaan-3 stands as a testament to India's commitment to expanding the frontiers of human knowledge and exploration beyond our home planet.\n",
    "''',\n",
    "'''\n",
    "Title: The Unifying Power of Sports: More Than Just a Game\n",
    "\n",
    "Introduction:\n",
    "Sports have long held a special place in the hearts of people worldwide. Beyond the thrill of competition and the joy of victory, sports play a significant role in shaping societies, fostering camaraderie, and promoting physical and mental well-being. In this blog, we explore the multifaceted impact of sports on individuals and communities, transcending the boundaries of a mere pastime.\n",
    "\n",
    "Physical and Mental Well-being:\n",
    "Engaging in sports is a surefire way to maintain a healthy and active lifestyle. Whether it's running, swimming, or playing team sports, physical activities contribute to cardiovascular fitness, muscle strength, and overall well-being. Beyond the physical benefits, sports also have a positive impact on mental health by reducing stress, anxiety, and depression. The endorphins released during exercise act as natural mood lifters, promoting a sense of happiness and accomplishment.\n",
    "\n",
    "Building Character and Leadership:\n",
    "Participation in sports instills valuable life skills and character traits. Team sports, in particular, teach individuals the importance of teamwork, communication, and collaboration. Athletes often develop leadership qualities, resilience, and the ability to handle both success and failure gracefully. The discipline required to excel in sports often translates into success in other areas of life, contributing to personal and professional growth.\n",
    "\n",
    "Community and Social Bonds:\n",
    "Sports have a remarkable ability to bring people together, transcending cultural, social, and geographical differences. Whether it's cheering for a favorite team or participating in local leagues, the sense of belonging that sports provide fosters strong community bonds. Sporting events become platforms for people to celebrate shared passions, creating a sense of unity and shared identity that extends beyond the field of play.\n",
    "\n",
    "Inclusivity and Diversity:\n",
    "The world of sports celebrates diversity in its many forms. Athletes from various backgrounds, cultures, and abilities come together on a level playing field, breaking down barriers and fostering inclusivity. Sports have the power to inspire individuals, regardless of their background, to pursue their dreams, challenging societal norms and promoting a more equitable world.\n",
    "\n",
    "Global Impact and Diplomacy:\n",
    "Major sporting events like the Olympics and the FIFA World Cup have a profound impact on global relations. They provide a platform for nations to come together in the spirit of competition, fostering international understanding and cooperation. Sports diplomacy has been a tool for peace-building and cultural exchange, showcasing the ability of sports to transcend political differences and promote unity.\n",
    "\n",
    "Conclusion:\n",
    "In essence, sports are more than just a game; they are a powerful force that shapes individuals, communities, and even nations. From promoting physical well-being and building character to fostering social bonds and global diplomacy, the impact of sports is far-reaching. As we continue to celebrate the achievements of athletes and revel in the excitement of sporting events, let us also recognize and appreciate the profound and positive influence that sports have on the fabric of our society.\n",
    "''',\n",
    "'''\n",
    "Title: Aditya-L1: India's Mission to Explore the Sun\n",
    "\n",
    "Introduction:\n",
    "India's space agency, ISRO, is set to launch a groundbreaking mission – Aditya-L1. This mission aims to unravel the mysteries of the Sun, offering invaluable insights into its outermost layer, the corona, and enhancing our understanding of solar activities. In this brief blog, we'll explore the significance, objectives, and potential impact of this ambitious solar exploration mission.\n",
    "\n",
    "Key Objectives:\n",
    "1. **Coronal Dynamics:** Aditya-L1 will focus on studying the Sun's corona, aiming to decode its temperature, density, and magnetic fields. This region remains one of the least understood aspects of the Sun.\n",
    "\n",
    "2. **Solar Eruptions:** The mission will observe solar flares and coronal mass ejections, providing critical data to predict and mitigate potential impacts on space weather and Earth's technological infrastructure.\n",
    "\n",
    "3. **Magnetic Fields:** Aditya-L1 will investigate the Sun's magnetic fields, contributing to our understanding of their role in shaping solar cycles and activities.\n",
    "\n",
    "Technological Innovation:\n",
    "Equipped with advanced instruments like the Visible Emission Line Coronagraph (VELC) and the Aditya Solar Wind Particle Experiment (ASPEX), the spacecraft incorporates cutting-edge technology to withstand the extreme conditions near the Sun.\n",
    "\n",
    "International Collaboration:\n",
    "Aditya-L1 involves collaboration with international space agencies, fostering the exchange of expertise and resources to enhance the mission's success.\n",
    "\n",
    "Conclusion:\n",
    "Aditya-L1 marks a significant leap in India's space exploration, promising to unlock the secrets of the Sun and improve our ability to predict and manage space weather. As the mission unfolds, it adds another remarkable chapter to India's growing achievements in space science.\n",
    "''',\n",
    "'''\n",
    "Title: Cricket: A Bat-and-Ball Ballet That Unites Nations\n",
    "\n",
    "Introduction:\n",
    "Cricket, often dubbed as a gentleman's game, transcends cultural boundaries and unites nations in the shared love for this bat-and-ball sport. Whether played on dusty streets, lush green fields, or grand international stadiums, cricket has become more than just a game—it's a cultural phenomenon that brings people together. In this short blog, let's explore the charm and global appeal of cricket.\n",
    "\n",
    "The Global Craze:\n",
    "With a fan base spanning continents, cricket has become one of the most-watched and passionately followed sports worldwide. Countries like India, Australia, England, Pakistan, and South Africa have not only embraced cricket as a sport but elevated it to the status of a national obsession. The sport's popularity is evident in the fervor surrounding major tournaments like the Cricket World Cup, where nations compete for glory on the world stage.\n",
    "\n",
    "Formats for Every Palate:\n",
    "Cricket offers a variety of formats, catering to different preferences and time constraints. Test matches, known for their strategic depth, challenge players over five days. One Day Internationals (ODIs) condense the action into a single day, while Twenty20 (T20) matches provide high-octane entertainment in just a few hours. This versatility ensures that cricket remains accessible to a diverse audience.\n",
    "\n",
    "Cultural Impact:\n",
    "Cricket isn't just a sport; it's deeply ingrained in the cultural fabric of many nations. Iconic players become national heroes, and memorable moments on the field become part of a country's collective memory. Cricket matches often serve as communal events, bringing families, friends, and even strangers together to cheer for their favorite teams.\n",
    "\n",
    "The Spirit of Sportsmanship:\n",
    "Cricket places a strong emphasis on sportsmanship, fair play, and respect for opponents. The \"Spirit of Cricket\" is a guiding principle that encourages players to uphold the integrity and tradition of the game. Moments of camaraderie and mutual respect on the field contribute to cricket's reputation as a sport that values not only skill but also the spirit in which it is played.\n",
    "\n",
    "Cricket and Beyond:\n",
    "Beyond the boundaries of the cricket field, the sport has a significant economic impact. Cricket leagues, sponsorships, and broadcasting rights generate substantial revenue, contributing to the global sports industry. Moreover, cricket serves as a platform for social initiatives, using its influence to address issues such as community development, health awareness, and education.\n",
    "\n",
    "Conclusion:\n",
    "Cricket's enduring popularity lies in its ability to captivate audiences with moments of skill, drama, and sheer excitement. As nations prepare to witness their cricketing heroes in action, whether in a local park or on an international stage, the bat-and-ball ballet of cricket continues to weave its magic, connecting people, transcending borders, and leaving an indelible mark on the global sporting landscape.\n",
    "'''\n",
    "]"
   ]
  },
  {
   "cell_type": "code",
   "execution_count": 159,
   "id": "772104e8-05e2-4695-a296-77f21428ca00",
   "metadata": {},
   "outputs": [],
   "source": [
    "vecs=encoder.encode(sentences)"
   ]
  },
  {
   "cell_type": "code",
   "execution_count": 161,
   "id": "8caac603-d21b-4bc8-9e24-f371b5173fec",
   "metadata": {},
   "outputs": [
    {
     "data": {
      "text/plain": [
       "array([[0.03683531, 1.        , 0.08305941, 0.4505636 ]], dtype=float32)"
      ]
     },
     "execution_count": 161,
     "metadata": {},
     "output_type": "execute_result"
    }
   ],
   "source": [
    "cosine_similarity([vecs[1]],vecs)"
   ]
  },
  {
   "cell_type": "code",
   "execution_count": null,
   "id": "099ec928-cd60-4b9d-b381-7de2e358949d",
   "metadata": {},
   "outputs": [],
   "source": []
  }
 ],
 "metadata": {
  "kernelspec": {
   "display_name": "Python 3 (ipykernel)",
   "language": "python",
   "name": "python3"
  },
  "language_info": {
   "codemirror_mode": {
    "name": "ipython",
    "version": 3
   },
   "file_extension": ".py",
   "mimetype": "text/x-python",
   "name": "python",
   "nbconvert_exporter": "python",
   "pygments_lexer": "ipython3",
   "version": "3.11.5"
  }
 },
 "nbformat": 4,
 "nbformat_minor": 5
}
